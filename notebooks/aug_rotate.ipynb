{
 "cells": [
  {
   "cell_type": "code",
   "execution_count": null,
   "id": "a02d83b6-e5fc-4c93-a0b4-468053ffa258",
   "metadata": {},
   "outputs": [],
   "source": [
    "%matplotlib inline\n",
    "%load_ext autoreload\n",
    "%autoreload 2"
   ]
  },
  {
   "cell_type": "code",
   "execution_count": null,
   "id": "2cc15500-796d-4d1d-af1f-a3a5cc53bafc",
   "metadata": {},
   "outputs": [],
   "source": [
    "# augment x,y volumes with rotation about the Z axis"
   ]
  },
  {
   "cell_type": "code",
   "execution_count": null,
   "id": "77b0d16e-affa-4464-8c1f-7b8ab4aee971",
   "metadata": {},
   "outputs": [],
   "source": [
    "import numpy as np"
   ]
  },
  {
   "cell_type": "code",
   "execution_count": null,
   "id": "b19e455c-d266-4ffe-a268-99ff60d4358e",
   "metadata": {},
   "outputs": [],
   "source": [
    "x = np.array(range(3**3)).reshape(3, 3, 3)"
   ]
  },
  {
   "cell_type": "code",
   "execution_count": null,
   "id": "d63d4d48-5909-4179-ad76-1b19af552d4c",
   "metadata": {},
   "outputs": [],
   "source": [
    "x"
   ]
  },
  {
   "cell_type": "code",
   "execution_count": null,
   "id": "49e6b5c1-58dc-4a8c-b2ba-739a66e86b39",
   "metadata": {},
   "outputs": [],
   "source": [
    "x[:,:,0]"
   ]
  },
  {
   "cell_type": "code",
   "execution_count": null,
   "id": "cf416bc7-4a45-43c1-94ca-0c0d1f057d5d",
   "metadata": {},
   "outputs": [],
   "source": [
    "x[0, :, 0]"
   ]
  },
  {
   "cell_type": "code",
   "execution_count": null,
   "id": "f8263566-f5c5-41f4-9490-1028ca43d100",
   "metadata": {},
   "outputs": [],
   "source": [
    "# rotate once\n",
    "augx = np.rot90(x, k=1)\n",
    "print(augx)\n",
    "print(augx[0,:,0])"
   ]
  },
  {
   "cell_type": "code",
   "execution_count": null,
   "id": "c925604f-b843-4534-8263-98575d0894bb",
   "metadata": {},
   "outputs": [],
   "source": [
    "# rotate twice\n",
    "augx = np.rot90(x, k=2)\n",
    "print(augx)\n",
    "print(augx[0,:,0])"
   ]
  },
  {
   "cell_type": "code",
   "execution_count": null,
   "id": "be5b2296-6c2e-4ac1-935d-f57ba938727e",
   "metadata": {},
   "outputs": [],
   "source": [
    "# rotate thrice\n",
    "augx = np.rot90(x, k=3)\n",
    "print(augx)\n",
    "print(augx[0,:,0])"
   ]
  },
  {
   "cell_type": "code",
   "execution_count": null,
   "id": "4b2f5984-707c-43b2-bab2-1cedb55c3331",
   "metadata": {},
   "outputs": [],
   "source": [
    "# rotate 4 times - get back original\n",
    "augx = np.rot90(x, k=4)\n",
    "print(augx)\n",
    "print(augx[0,:,0])"
   ]
  },
  {
   "cell_type": "code",
   "execution_count": 37,
   "id": "1d0c9962-ca91-4adc-aa04-5132653fda3a",
   "metadata": {},
   "outputs": [],
   "source": [
    "from scripts.sem_seg.augment_backproj_data import get_rot_mat"
   ]
  },
  {
   "cell_type": "code",
   "execution_count": 42,
   "id": "9634b886-c728-4cbd-a03b-b9556d9456dc",
   "metadata": {},
   "outputs": [],
   "source": [
    "rot1 = np.eye(4)\n",
    "rot1[0, 0] = 0\n",
    "rot1[1, 1] = 0\n",
    "rot1[0, 1] = 1\n",
    "rot1[1, 0] = -1"
   ]
  },
  {
   "cell_type": "code",
   "execution_count": 47,
   "id": "b043c9ef-6e1f-4d0e-8a70-f7ee99ce6f76",
   "metadata": {},
   "outputs": [
    {
     "data": {
      "text/plain": [
       "(array([[ 0.,  1.,  0.,  0.],\n",
       "        [-1.,  0.,  0.,  0.],\n",
       "        [ 0.,  0.,  1.,  0.],\n",
       "        [ 0.,  0.,  0.,  1.]]),\n",
       " array([[ 0.,  1.,  0.,  0.],\n",
       "        [-1.,  0.,  0.,  0.],\n",
       "        [ 0.,  0.,  1.,  0.],\n",
       "        [ 0.,  0.,  0.,  1.]]))"
      ]
     },
     "execution_count": 47,
     "metadata": {},
     "output_type": "execute_result"
    }
   ],
   "source": [
    "rot1, np.linalg.matrix_power(rot1, 1)"
   ]
  },
  {
   "cell_type": "code",
   "execution_count": 71,
   "id": "c71a9c6a-11ff-4055-878a-ce601cbee9a5",
   "metadata": {},
   "outputs": [
    {
     "data": {
      "text/plain": [
       "array([[ 0., -1.,  0., 32.],\n",
       "       [ 1.,  0.,  0.,  0.],\n",
       "       [ 0.,  0.,  1.,  0.],\n",
       "       [ 0.,  0.,  0.,  1.]])"
      ]
     },
     "execution_count": 71,
     "metadata": {},
     "output_type": "execute_result"
    }
   ],
   "source": [
    "subvol_size = (32, 32, 32)\n",
    "rmat = get_rot_mat(1, subvol_size)\n",
    "rmat"
   ]
  },
  {
   "cell_type": "code",
   "execution_count": 72,
   "id": "12fb6645-3cc1-464b-a1b5-3d1616bcbfc1",
   "metadata": {},
   "outputs": [
    {
     "data": {
      "text/plain": [
       "array([0., 0., 5., 1.])"
      ]
     },
     "execution_count": 72,
     "metadata": {},
     "output_type": "execute_result"
    }
   ],
   "source": [
    "# test on one point\n",
    "rmat @ [0, 32, 5, 1]"
   ]
  }
 ],
 "metadata": {
  "kernelspec": {
   "display_name": "Python 3",
   "language": "python",
   "name": "python3"
  },
  "language_info": {
   "codemirror_mode": {
    "name": "ipython",
    "version": 3
   },
   "file_extension": ".py",
   "mimetype": "text/x-python",
   "name": "python",
   "nbconvert_exporter": "python",
   "pygments_lexer": "ipython3",
   "version": "3.8.8"
  }
 },
 "nbformat": 4,
 "nbformat_minor": 5
}
