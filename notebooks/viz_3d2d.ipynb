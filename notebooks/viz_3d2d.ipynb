{
 "cells": [
  {
   "cell_type": "code",
   "execution_count": null,
   "id": "d0c52d06-8487-4a80-b3be-56b77baf18ac",
   "metadata": {},
   "outputs": [],
   "source": [
    "%matplotlib inline\n",
    "%load_ext autoreload\n",
    "%autoreload 2"
   ]
  },
  {
   "cell_type": "code",
   "execution_count": null,
   "id": "198dc03e-1bb9-4a00-871e-1e5807b6cecc",
   "metadata": {},
   "outputs": [],
   "source": [
    "from pathlib import Path\n",
    "import trimesh\n",
    "import pyrender\n",
    "import h5py\n",
    "import numpy as np\n",
    "import torch\n",
    "import os, os.path as osp\n",
    "from tqdm import tqdm\n",
    "\n",
    "from datasets.scannet.utils_3d import ProjectionHelper, adjust_intrinsic, make_intrinsic, load_pose"
   ]
  },
  {
   "cell_type": "code",
   "execution_count": null,
   "id": "f3294419-1a37-4905-a6c8-e055984bbdc6",
   "metadata": {},
   "outputs": [],
   "source": [
    "def get_scan_name(scene_id, scan_id):\n",
    "    return f'scene{str(scene_id).zfill(4)}_{str(scan_id).zfill(2)}'"
   ]
  },
  {
   "cell_type": "code",
   "execution_count": null,
   "id": "a6de4bf3-322c-4718-a5ee-5779c3ce80b6",
   "metadata": {},
   "outputs": [],
   "source": [
    "subvol_size = (32, 32, 32)"
   ]
  },
  {
   "cell_type": "code",
   "execution_count": null,
   "id": "0516e802-57e6-4f88-a396-1376265e06a1",
   "metadata": {},
   "outputs": [],
   "source": [
    "data_dir = Path('/mnt/data/scannet/backproj')\n",
    "fname = 'train100.h5'\n",
    "f = h5py.File(data_dir / fname, 'r')"
   ]
  },
  {
   "cell_type": "code",
   "execution_count": null,
   "id": "4ac40dc5-356e-4f37-976d-0f6e6228fe5d",
   "metadata": {},
   "outputs": [],
   "source": [
    "print(f.keys())\n",
    "print(f['x'].shape)"
   ]
  },
  {
   "cell_type": "code",
   "execution_count": null,
   "id": "d115cbdb-ae72-48bf-a12f-2c98366389f3",
   "metadata": {},
   "outputs": [],
   "source": [
    "ndx = 99999\n",
    "w2g, sceneid, scanid, frames = f['world_to_grid'][ndx], f['scene_id'][ndx], f['scan_id'][ndx], f['frames'][ndx]\n",
    "print(w2g)\n",
    "print(sceneid, scanid)\n",
    "print(frames)\n",
    "g2w = torch.inverse(torch.Tensor(w2g)).numpy()"
   ]
  },
  {
   "cell_type": "markdown",
   "id": "c8b85ad9-4c89-40fc-bf04-f97aa2a250f9",
   "metadata": {},
   "source": [
    "## Draw one chunk and its corresponding camera pose"
   ]
  },
  {
   "cell_type": "code",
   "execution_count": null,
   "id": "3926a3d2-8f6e-4fdf-b6eb-c9acca44ec49",
   "metadata": {},
   "outputs": [],
   "source": [
    "scene = trimesh.scene.scene.Scene() \n",
    "\n",
    "scan_name = get_scan_name(sceneid, scanid)\n",
    "print(scan_name)\n",
    "root = Path('/mnt/data/scannet/scans')\n",
    "scan_path = root / f'{scan_name}/{scan_name}_vh_clean_2.ply'\n",
    "print(scan_path)\n",
    "scan = trimesh.load(scan_path)\n",
    "print(scan)\n",
    "print('Add scan')\n",
    "scene.add_geometry(scan)\n",
    "\n",
    "box = trimesh.creation.box(subvol_size, g2w)\n",
    "print('Add box')\n",
    "scene.add_geometry(box)\n",
    "\n",
    "intrinsic = make_intrinsic(1170.187988, 1170.187988, 647.75, 483.75)\n",
    "intrinsic = adjust_intrinsic(intrinsic, [1296, 968], (40, 30))\n",
    "\n",
    "pose_path = root / scan_name / 'pose' / f'{frames[0]}.txt'\n",
    "pose = load_pose(pose_path).numpy()\n",
    "focal = (intrinsic[0, 0], intrinsic[1, 1])\n",
    "cam = trimesh.scene.Camera(name=f'{scan_name}_{frames[0]}', resolution=(40, 30), focal=focal, z_near=0.4, z_far=4.0) \n",
    "camball, campath = trimesh.creation.camera_marker(cam, marker_height=4, origin_size=0.05)\n",
    "camball.apply_transform(pose)\n",
    "campath.apply_transform(pose)\n",
    "campath.colors = np.ones((5, 3)) * np.array((0, 255, 0))\n",
    "print('Add cam')\n",
    "scene.add_geometry(camball)\n",
    "scene.add_geometry(campath)\n",
    "\n",
    "axes = trimesh.creation.axis(axis_radius=0.1, axis_length=10)\n",
    "print('Add axes')\n",
    "scene.add_geometry(axes)\n",
    "\n",
    "scene.show()"
   ]
  },
  {
   "cell_type": "markdown",
   "id": "c4583a39-032f-4dab-91f3-1a7b6c735e73",
   "metadata": {},
   "source": [
    "## Draw all the cameras in a scene"
   ]
  },
  {
   "cell_type": "code",
   "execution_count": null,
   "id": "6508b34f-b9ad-468f-8116-be49a323b68e",
   "metadata": {},
   "outputs": [],
   "source": [
    "# draw all cameras in a scene\n",
    "scene = trimesh.scene.scene.Scene() \n",
    "\n",
    "scan_name = get_scan_name(sceneid, scanid)\n",
    "print(scan_name)\n",
    "root = Path('/mnt/data/scannet/scans')\n",
    "scan_path = root / f'{scan_name}/{scan_name}_vh_clean_2.ply'\n",
    "print(scan_path)\n",
    "scan = trimesh.load(scan_path)\n",
    "print(scan)\n",
    "print('Add scan')\n",
    "scene.add_geometry(scan)\n",
    "\n",
    "box = trimesh.creation.box(subvol_size, g2w)\n",
    "print('Add box')\n",
    "scene.add_geometry(box)\n",
    "\n",
    "intrinsic = make_intrinsic(1170.187988, 1170.187988, 647.75, 483.75)\n",
    "intrinsic = adjust_intrinsic(intrinsic, [1296, 968], (40, 30))\n",
    "pose_files = sorted(os.listdir(root / scan_name / 'pose'), key=lambda f: int(osp.splitext(f)[0]))\n",
    "pose_indices = range(0, len(pose_files), frame_skip)\n",
    "print('Add poses:', len(pose_indices))\n",
    "frame_skip = 40\n",
    "focal = (intrinsic[0, 0], intrinsic[1, 1]) \n",
    "for ndx, pose_ndx in enumerate(tqdm(pose_indices)):\n",
    "    pose_path = root / scan_name / 'pose' / pose_files[pose_ndx]\n",
    "    pose = load_pose(pose_path).numpy()\n",
    "    \n",
    "    cam = trimesh.scene.Camera(name=f'{scan_name}_{frames[0]}', resolution=(40, 30), focal=focal, z_near=0.4, z_far=4.0) \n",
    "    camball, campath = trimesh.creation.camera_marker(cam, marker_height=4, origin_size=0.05)\n",
    "    \n",
    "    camball.apply_transform(pose)\n",
    "    campath.apply_transform(pose)\n",
    "    campath.colors = np.zeros((5, 3))\n",
    "    scene.add_geometry(camball)\n",
    "    scene.add_geometry(campath)\n",
    "\n",
    "# draw the best pose in a different color\n",
    "pose_path = root / scan_name / 'pose' / f'{frames[0]}.txt'\n",
    "pose = load_pose(pose_path).numpy()\n",
    "focal = (intrinsic[0, 0], intrinsic[1, 1])\n",
    "cam = trimesh.scene.Camera(name=f'{scan_name}_{frames[0]}', resolution=(40, 30), focal=focal, z_near=0.4, z_far=4.0) \n",
    "camball, campath = trimesh.creation.camera_marker(cam, marker_height=4, origin_size=0.05)\n",
    "camball.apply_transform(pose)\n",
    "campath.apply_transform(pose)\n",
    "# green\n",
    "campath.colors = np.ones((5, 3)) * np.array((0, 255, 0))\n",
    "print('Add cam')\n",
    "scene.add_geometry(camball)\n",
    "scene.add_geometry(campath)\n",
    "\n",
    "axes = trimesh.creation.axis(axis_radius=0.1, axis_length=10)\n",
    "print('Add axes')\n",
    "scene.add_geometry(axes)\n",
    "\n",
    "scene.show()"
   ]
  }
 ],
 "metadata": {
  "kernelspec": {
   "display_name": "Python 3",
   "language": "python",
   "name": "python3"
  },
  "language_info": {
   "codemirror_mode": {
    "name": "ipython",
    "version": 3
   },
   "file_extension": ".py",
   "mimetype": "text/x-python",
   "name": "python",
   "nbconvert_exporter": "python",
   "pygments_lexer": "ipython3",
   "version": "3.8.8"
  }
 },
 "nbformat": 4,
 "nbformat_minor": 5
}
