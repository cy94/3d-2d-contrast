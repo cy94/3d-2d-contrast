{
 "cells": [
  {
   "cell_type": "markdown",
   "id": "fa1eda9a-d0ca-44eb-86ee-268f42b338ed",
   "metadata": {},
   "source": [
    "# viz GT and preds meshes"
   ]
  },
  {
   "cell_type": "code",
   "execution_count": null,
   "id": "74f89f87-7974-4818-b471-86d0338301c4",
   "metadata": {},
   "outputs": [],
   "source": [
    "%matplotlib inline\n",
    "%load_ext autoreload\n",
    "%autoreload 2"
   ]
  },
  {
   "cell_type": "code",
   "execution_count": null,
   "id": "2d496508-7ea9-499e-9057-97419cd6c136",
   "metadata": {},
   "outputs": [],
   "source": [
    "import os\n",
    "os.environ['PYOPENGL_PLATFORM'] = 'egl'\n",
    "\n",
    "from scipy.spatial.distance import cdist\n",
    "from scipy.spatial.transform import Rotation as R\n",
    "from pathlib import Path\n",
    "import trimesh\n",
    "import pyrender\n",
    "from pyrender.constants import RenderFlags as rf\n",
    "import h5py\n",
    "import numpy as np\n",
    "import torch\n",
    "import os, os.path as osp\n",
    "from tqdm import tqdm\n",
    "import matplotlib.pyplot as plt\n",
    "import cv2\n",
    "from PIL import Image\n",
    "\n",
    "from MinkowskiEngine.utils import sparse_quantize\n",
    "\n",
    "from datasets.scannet.common import load_ply, create_color_palette\n",
    "from datasets.scannet.utils_3d import adjust_intrinsic, make_intrinsic, load_intrinsic"
   ]
  },
  {
   "cell_type": "code",
   "execution_count": null,
   "id": "90f6c4dd-c762-4736-9e8f-7a9ad1356e0b",
   "metadata": {},
   "outputs": [],
   "source": [
    "def get_scan_name(scene_id, scan_id):\n",
    "    return f'scene{str(scene_id).zfill(4)}_{str(scan_id).zfill(2)}'"
   ]
  },
  {
   "cell_type": "code",
   "execution_count": null,
   "id": "199d59a3-7ee2-4921-93da-64030807f3cb",
   "metadata": {},
   "outputs": [],
   "source": [
    "root = Path('/mnt/data/scannet/scans')\n",
    "version = 808\n",
    "sceneid, scanid = 568, 0\n",
    "print(sceneid, scanid)\n",
    "scan_name = get_scan_name(sceneid, scanid)\n",
    "print(scan_name)\n",
    "gt_path = root / f'{scan_name}/{scan_name}_vh_clean_2.labels.ply'\n",
    "print(gt_path)"
   ]
  },
  {
   "cell_type": "code",
   "execution_count": null,
   "id": "3c02e9a6-704e-4370-b655-382259202f39",
   "metadata": {},
   "outputs": [],
   "source": [
    "palette = np.array(create_color_palette(), dtype=int)"
   ]
  },
  {
   "cell_type": "markdown",
   "id": "0f8646bf-f88c-4f73-9c15-fbbffef14bda",
   "metadata": {},
   "source": [
    "# Draw GT labels mesh"
   ]
  },
  {
   "cell_type": "code",
   "execution_count": null,
   "id": "c244036b-2d4d-4b0e-9fca-c28b0c2170b9",
   "metadata": {
    "tags": []
   },
   "outputs": [],
   "source": [
    "scene = trimesh.scene.scene.Scene() \n",
    "\n",
    "coords, old_colors, labels = load_ply(gt_path, read_label=True)\n",
    "gt_vertex_colors = palette[labels]\n",
    "\n",
    "# same vertices, new colors\n",
    "gt_mesh_new = trimesh.Trimesh(vertices=coords, vertex_colors=gt_vertex_colors) #, faces=tr_mesh.faces, face_colors=tr_mesh.visual.face_colors)\n",
    "gt_mesh_new.export('tmp.ply')\n",
    "gt_mesh_new = trimesh.load('tmp.ply')\n",
    "scene.add_geometry(gt_mesh_new)\n",
    "\n",
    "scene.show()"
   ]
  },
  {
   "cell_type": "code",
   "execution_count": null,
   "id": "7dfa519b-6188-42ed-81cc-69f3d208c969",
   "metadata": {},
   "outputs": [],
   "source": [
    "r.delete()"
   ]
  },
  {
   "cell_type": "code",
   "execution_count": null,
   "id": "79d00623-bcc3-4ade-a9f3-4a2796440e52",
   "metadata": {
    "tags": []
   },
   "outputs": [],
   "source": [
    "img_size = (1296, 968)\n",
    "render_intrinsic = make_intrinsic(1170.187988, 1170.187988, 647.75, 483.75)\n",
    "# print(render_intrinsic)\n",
    "# render_intrinsic = adjust_intrinsic(render_intrinsic, [1296, 968], img_size)\n",
    "render_focal = (render_intrinsic[0, 0], render_intrinsic[1, 1])\n",
    "cx, cy = render_intrinsic[0, 2], render_intrinsic[1, 2]\n",
    "\n",
    "render_cam = pyrender.IntrinsicsCamera(render_focal[0], render_focal[1], cx, cy, znear=0.4, zfar=20.0, name=None)\n",
    "render_light = pyrender.DirectionalLight(color=[1.0, 1.0, 1.0], intensity=7.0)\n",
    "\n",
    "r = pyrender.OffscreenRenderer(viewport_width=img_size[0],\n",
    "                                viewport_height=img_size[1],\n",
    "                                point_size=1.5)"
   ]
  },
  {
   "cell_type": "code",
   "execution_count": null,
   "id": "5810619f-3975-4c27-98a0-cb57efb23488",
   "metadata": {},
   "outputs": [],
   "source": [
    "rot = R.from_euler('zyx', (0, 0, 40), degrees=True)\n",
    "rmat = rot.as_matrix()\n",
    "t = (3, -2, 8)\n",
    "pose = np.array([\n",
    "    [rmat[0][0], rmat[0][1], rmat[0][2], t[0]],\n",
    "    [rmat[1][0], rmat[1][1], rmat[1][2], t[1]],\n",
    "    [rmat[2][0], rmat[2][1], rmat[2][2], t[2]],\n",
    "    [0, 0, 0, 1]\n",
    "])"
   ]
  },
  {
   "cell_type": "code",
   "execution_count": null,
   "id": "a682b7fe-11d1-4289-a85d-f317c61bb68b",
   "metadata": {},
   "outputs": [],
   "source": [
    "pymesh = pyrender.Mesh.from_points(coords, colors=gt_vertex_colors)\n",
    "pyscene = pyrender.Scene()\n",
    "pyscene.add(pymesh)\n",
    "pyscene.add(render_cam, pose=pose)\n",
    "pyscene.add(render_light, pose=pose)\n",
    "\n",
    "rgb, _ = r.render(pyscene, rf.ALL_WIREFRAME | rf.FLAT )\n",
    "print(rgb.shape)\n",
    "fig, ax = plt.subplots()\n",
    "fig.set_size_inches(12, 9)\n",
    "plt.imshow(rgb)\n",
    "plt.axis('off')\n",
    "fig.tight_layout()\n",
    "plt.savefig('gt.png', dpi=fig.dpi, bbox_inches='tight', pad_inches=0)\n"
   ]
  },
  {
   "cell_type": "markdown",
   "id": "5c218589-1a90-429f-ab92-2657ccef4a58",
   "metadata": {},
   "source": [
    "# Predictions on voxel centers"
   ]
  },
  {
   "cell_type": "code",
   "execution_count": null,
   "id": "fd25f83a-5752-419c-9344-2a07afa3b58a",
   "metadata": {},
   "outputs": [],
   "source": [
    "scene_pred = trimesh.scene.scene.Scene() \n",
    "\n",
    "pred_path = f'/home/chandan/thesis/version_{version}_{scan_name}.ply'\n",
    "pred_mesh = trimesh.load(pred_path)\n",
    "print(pred_mesh)\n",
    "scene_pred.add_geometry(pred_mesh)\n",
    "\n",
    "scene_pred.show()"
   ]
  },
  {
   "cell_type": "markdown",
   "id": "87e1dc80-dfe0-4424-af6f-2068c338a723",
   "metadata": {},
   "source": [
    "# Propagate voxel preds to vertices"
   ]
  },
  {
   "cell_type": "code",
   "execution_count": null,
   "id": "5f1c9bc4-05b2-4678-979b-9a6e20d42b9c",
   "metadata": {},
   "outputs": [],
   "source": [
    "version = 836\n",
    "pred_path = f'/home/chandan/thesis/version_{version}_{scan_name}.ply'\n",
    "# voxel-pred coords\n",
    "coords_pred, colors_pred, _ = load_ply(pred_path, read_label=False)\n",
    "print(coords.shape, coords_pred.shape)\n",
    "\n",
    "# quantize the coords of the original mesh\n",
    "unique_map, inverse_map = sparse_quantize(np.ascontiguousarray(coords), return_index=True, return_inverse=True,\n",
    "                                                                quantization_size=0.05, return_maps_only=True)\n",
    "\n",
    "# smaller set of coords\n",
    "unique_coords = coords[unique_map]\n",
    "print(unique_coords.shape)\n",
    "\n",
    "# find all pairs distances between quantized coords and pred-voxel coords\n",
    "distances = cdist(unique_coords, coords_pred)\n",
    "\n",
    "# find the nearest pred-voxel to each quantized vertex and get its color\n",
    "unique_coord_colors = []\n",
    "for row in tqdm(distances):\n",
    "    closest = row.argmin()\n",
    "    closest_color = colors_pred[closest]\n",
    "    unique_coord_colors.append(closest_color)\n",
    "\n",
    "unique_coord_colors = np.array(unique_coord_colors, dtype=int)\n",
    "\n",
    "# create a mesh using these colors and show it \n",
    "print(unique_coords.shape, unique_coord_colors.shape)\n",
    "vertex_pred_colors = unique_coord_colors[inverse_map]\n",
    "# print(vertex_pred_colors.shape)\n",
    "# vertex_preds_mesh = trimesh.Trimesh(vertices=coords, vertex_colors=vertex_pred_colors)\n",
    "# vertex_preds_mesh.export('tmp.ply')\n",
    "# vertex_preds_mesh = trimesh.load('tmp.ply')\n",
    "\n",
    "# scene_pred_vertices = trimesh.scene.scene.Scene() \n",
    "# scene_pred_vertices.add_geometry(vertex_preds_mesh)\n",
    "# scene_pred_vertices.show()\n",
    "\n",
    "pymesh = pyrender.Mesh.from_points(coords, colors=vertex_pred_colors)\n",
    "pyscene = pyrender.Scene()\n",
    "pyscene.add(pymesh)\n",
    "pyscene.add(render_cam, pose=pose)\n",
    "pyscene.add(render_light, pose=pose)\n",
    "\n",
    "rgb, _ = r.render(pyscene, rf.ALL_WIREFRAME | rf.FLAT )\n",
    "print(rgb.shape)\n",
    "fig, ax = plt.subplots()\n",
    "fig.set_size_inches(12, 9)\n",
    "plt.imshow(rgb)\n",
    "plt.axis('off')\n",
    "fig.tight_layout()\n",
    "plt.savefig(f'{version}_{scan_name}.png', dpi=fig.dpi, bbox_inches='tight', pad_inches=0)\n"
   ]
  }
 ],
 "metadata": {
  "kernelspec": {
   "display_name": "Python 3",
   "language": "python",
   "name": "python3"
  },
  "language_info": {
   "codemirror_mode": {
    "name": "ipython",
    "version": 3
   },
   "file_extension": ".py",
   "mimetype": "text/x-python",
   "name": "python",
   "nbconvert_exporter": "python",
   "pygments_lexer": "ipython3",
   "version": "3.8.8"
  }
 },
 "nbformat": 4,
 "nbformat_minor": 5
}
