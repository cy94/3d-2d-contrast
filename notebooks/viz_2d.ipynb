{
 "cells": [
  {
   "cell_type": "code",
   "execution_count": null,
   "id": "2f51eda4-a26f-48b6-86f3-ae769854f389",
   "metadata": {},
   "outputs": [],
   "source": [
    "%matplotlib inline\n",
    "%load_ext autoreload\n",
    "%autoreload 2"
   ]
  },
  {
   "cell_type": "code",
   "execution_count": null,
   "id": "aee80d5a-154c-4b90-bda9-5e879092f559",
   "metadata": {},
   "outputs": [],
   "source": [
    "# ENet 2d model inputs, etc"
   ]
  },
  {
   "cell_type": "code",
   "execution_count": null,
   "id": "6627c0a9-6548-4f4a-b59b-5d89a581788c",
   "metadata": {},
   "outputs": [],
   "source": [
    "from datasets.scannet.utils_3d import load_color\n",
    "import matplotlib.pyplot as plt\n",
    "import imageio\n",
    "import numpy as np\n",
    "import torch"
   ]
  },
  {
   "cell_type": "code",
   "execution_count": null,
   "id": "094e7f05-a285-46c1-a107-745d8969f88b",
   "metadata": {},
   "outputs": [],
   "source": [
    "img_path = '/mnt/data/scannet/scans/scene0191_00/color/0.jpg'"
   ]
  },
  {
   "cell_type": "code",
   "execution_count": null,
   "id": "dbd7097e-dda5-404b-8fc5-15148f4cbd44",
   "metadata": {},
   "outputs": [],
   "source": [
    "img = imageio.imread(img_path)\n",
    "# imageio returns H, W, 3\n",
    "print(img.shape)"
   ]
  },
  {
   "cell_type": "code",
   "execution_count": null,
   "id": "bb9dee06-c24c-4ebc-8bd5-7f83149dfb65",
   "metadata": {},
   "outputs": [],
   "source": [
    "# 3, H, W\n",
    "x = load_color(img_path, (320, 240))\n",
    "print(x.shape)\n",
    "x = x.transpose(1, 2, 0)\n",
    "# imshow input is H,W\n",
    "plt.imshow(x)\n",
    "plt.axis('off')"
   ]
  },
  {
   "cell_type": "code",
   "execution_count": null,
   "id": "7ef19c91-8d19-4107-b7fd-6420071a10c5",
   "metadata": {},
   "outputs": [],
   "source": [
    "# x and y in sample saved during training\n",
    "sample = torch.load('../before.pth')\n",
    "plt.figure()\n",
    "plt.imshow(sample['x'].astype(np.uint8)) #.transpose(1, 2, 0))\n",
    "plt.axis('off')\n",
    "plt.figure()\n",
    "plt.imshow(sample['y'])\n",
    "plt.axis('off')"
   ]
  },
  {
   "cell_type": "code",
   "execution_count": null,
   "id": "73db5745-a4a0-4578-bf37-799e7dfd7037",
   "metadata": {},
   "outputs": [],
   "source": [
    "# x and y in sample saved during training\n",
    "sample = torch.load('../after.pth')\n",
    "print(sample['x'].min(), sample['x'].max())\n",
    "plt.figure()\n",
    "plt.imshow(sample['x'].astype(np.uint8).transpose(1, 2, 0))\n",
    "plt.axis('off')\n",
    "plt.figure()\n",
    "plt.imshow(sample['y'])\n",
    "plt.axis('off')"
   ]
  }
 ],
 "metadata": {
  "kernelspec": {
   "display_name": "Python 3",
   "language": "python",
   "name": "python3"
  },
  "language_info": {
   "codemirror_mode": {
    "name": "ipython",
    "version": 3
   },
   "file_extension": ".py",
   "mimetype": "text/x-python",
   "name": "python",
   "nbconvert_exporter": "python",
   "pygments_lexer": "ipython3",
   "version": "3.8.8"
  }
 },
 "nbformat": 4,
 "nbformat_minor": 5
}
