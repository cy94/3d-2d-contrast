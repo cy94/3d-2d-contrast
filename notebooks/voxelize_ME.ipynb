{
 "cells": [
  {
   "cell_type": "code",
   "execution_count": null,
   "id": "be9f16ba-3c1d-4929-b01c-e9948d65f9d7",
   "metadata": {},
   "outputs": [],
   "source": [
    "%matplotlib inline\n",
    "%load_ext autoreload\n",
    "%autoreload 2"
   ]
  },
  {
   "cell_type": "code",
   "execution_count": null,
   "id": "6a11aeda-1afd-4ba6-bc7b-9ef56c610db7",
   "metadata": {},
   "outputs": [],
   "source": [
    "import torch\n",
    "import csv\n",
    "\n",
    "import cv2\n",
    "import numpy as np\n",
    "\n",
    "from tqdm import tqdm\n",
    "\n",
    "import os, os.path as osp\n",
    "from pathlib import Path\n",
    "\n",
    "from MinkowskiEngine.utils import sparse_quantize\n",
    "\n",
    "from plyfile import PlyElement, PlyData\n",
    "\n",
    "from datasets.scannet.common import load_ply"
   ]
  },
  {
   "cell_type": "markdown",
   "id": "c85d6faf-d3a9-4fc6-a20b-2c7eaae0d115",
   "metadata": {},
   "source": [
    "# File names and params"
   ]
  },
  {
   "cell_type": "code",
   "execution_count": null,
   "id": "42a4d192-fd5c-43dc-9447-2550f3c67ae4",
   "metadata": {},
   "outputs": [],
   "source": [
    "DATA_DIR = Path('/mnt/data/scannet/scans/')\n",
    "\n",
    "voxel_size = 0.05\n",
    "\n",
    "scan_id = 'scene0000_00'\n",
    "scan_dir = DATA_DIR / scan_id\n",
    "label_file = DATA_DIR.parent / 'scannetv2-labels.combined.tsv'\n",
    "\n",
    "input_file = f'{scan_id}_vh_clean_2.ply' \n",
    "gt_file = f'{scan_id}_vh_clean_2.labels.ply' "
   ]
  },
  {
   "cell_type": "code",
   "execution_count": null,
   "id": "09675f01-b819-4059-96ee-9beafd941a7c",
   "metadata": {},
   "outputs": [],
   "source": [
    "# read colors from input file\n",
    "_, rgb, _ = load_ply(scan_dir / input_file)\n",
    "# read coords and labels from GT file\n",
    "coords, _, labels = load_ply(scan_dir / gt_file, read_label=True)\n",
    "print(coords.dtype, rgb.dtype, labels.dtype)\n",
    "print(coords.shape, rgb.shape, labels.shape)\n",
    "\n",
    "print('NYU Labels:', labels.shape, 'Range:', labels.min(), labels.max(), \n",
    "      'Unique:', len(np.unique(labels)))\n",
    "print('coords range', coords.min(axis=0), coords.max(axis=0))"
   ]
  },
  {
   "cell_type": "markdown",
   "id": "27f94842-f836-47ad-9acf-46752a8932b3",
   "metadata": {},
   "source": [
    "# Voxelize with Minkowski Engine"
   ]
  },
  {
   "cell_type": "code",
   "execution_count": null,
   "id": "b8d0c0a2-1263-4c69-995e-6fc813fd9290",
   "metadata": {},
   "outputs": [],
   "source": [
    "coords_vox, rgb_vox, labels_vox, index, inverse = sparse_quantize(coords, rgb, labels, quantization_size=voxel_size, \n",
    "                                                                    return_index=True, return_inverse=True, device='cuda')\n",
    "print('Old->new Index, new->old index', len(index), len(inverse))\n",
    "\n",
    "unique_coords = coords[index]\n",
    "print('Unique coords Shape', unique_coords.shape)\n",
    "print('Unique coords Range', unique_coords.min(axis=0), unique_coords.max(axis=0))\n",
    "print('Unique coords', unique_coords)"
   ]
  },
  {
   "cell_type": "code",
   "execution_count": null,
   "id": "fc640aa2-82ad-45c4-a0f3-18dd4d192b10",
   "metadata": {},
   "outputs": [],
   "source": [
    "print('voxelize and ceil/floor unique coords, matches?')\n",
    "print('Ceil', (np.ceil(unique_coords/voxel_size) == coords_vox).all())\n",
    "print('Floor', (np.floor(unique_coords/voxel_size) == coords_vox).all())"
   ]
  },
  {
   "cell_type": "code",
   "execution_count": null,
   "id": "461eb3d3-5d8a-4831-af8b-d8cf76fe5133",
   "metadata": {
    "jupyter": {
     "source_hidden": true
    },
    "tags": []
   },
   "outputs": [],
   "source": [
    "print('Shapes', coords_vox.shape, rgb_vox.shape, labels_vox.shape)\n",
    "print('voxelized coords range', coords_vox.min(axis=0), coords_vox.max(axis=0))\n",
    "print('Voxelized Dtype', coords_vox.dtype, rgb_vox.dtype, labels_vox.dtype)\n",
    "print('Label range', labels_vox.min(), labels_vox.max())\n",
    "print('RGB range', rgb_vox.min(axis=0), rgb_vox.max(axis=0))\n",
    "print('Voxelized coords', coords_vox)"
   ]
  },
  {
   "cell_type": "code",
   "execution_count": null,
   "id": "2e1205ab-8f8e-495f-a64d-e51b5ee884d4",
   "metadata": {},
   "outputs": [],
   "source": [
    "# get grid indices from voxelized coords\n",
    "t = coords_vox.min(axis=0)\n",
    "coords_new = coords_vox - t\n",
    "print('Grid indices range', coords_new.min(axis=0), coords_new.max(axis=0))"
   ]
  },
  {
   "cell_type": "code",
   "execution_count": null,
   "id": "85a0e017-af83-478e-96fe-b28645c72ee1",
   "metadata": {},
   "outputs": [],
   "source": [
    "(labels_vox == -100).sum()"
   ]
  },
  {
   "cell_type": "markdown",
   "id": "3a3160bd-3818-4bbf-bc82-72c5b6ed9372",
   "metadata": {},
   "source": [
    "# Compare coordinates before and after voxelization"
   ]
  },
  {
   "cell_type": "code",
   "execution_count": null,
   "id": "7e61f37a-d4c0-4ce3-989b-ea52cb62628f",
   "metadata": {},
   "outputs": [],
   "source": [
    "coords.min(axis=0), coords.max(axis=0)"
   ]
  },
  {
   "cell_type": "code",
   "execution_count": null,
   "id": "4c20393e-e970-4a12-8f16-7e52e109c717",
   "metadata": {},
   "outputs": [],
   "source": [
    "coords_vox.min(axis=0), coords_vox.max(axis=0)"
   ]
  },
  {
   "cell_type": "code",
   "execution_count": null,
   "id": "fa518fe1-1fb3-4e12-87cc-a93a01dced5f",
   "metadata": {},
   "outputs": [],
   "source": [
    "coords_vox.min(axis=0) * voxel_size, coords_vox.max(axis=0) * voxel_size"
   ]
  },
  {
   "cell_type": "code",
   "execution_count": null,
   "id": "04a02e19-8a6e-4938-aabd-00d0c0180534",
   "metadata": {},
   "outputs": [],
   "source": [
    "coords_vox[0]"
   ]
  },
  {
   "cell_type": "markdown",
   "id": "03ea54d9-fe99-4854-9f6f-8dcb952df412",
   "metadata": {},
   "source": [
    "## save point cloud to file"
   ]
  },
  {
   "cell_type": "code",
   "execution_count": null,
   "id": "a5641091-1acb-4938-aabf-1f3e521ab5eb",
   "metadata": {},
   "outputs": [],
   "source": [
    "# store everything in one array for the PLY file\n",
    "arr = np.array([tuple(coords_vox[i]) + tuple(rgb_vox[i]) + (labels_vox[i],) for i in range(len(coords_vox))], \n",
    "               dtype=[('x', 'f4'), ('y', 'f4'), ('z', 'f4'), ('red', 'f4'), ('green', 'f4'), ('blue', 'f4'), ('label', 'i4')])\n",
    "\n",
    "elem = PlyElement.describe(arr, 'vertex')\n",
    "\n",
    "out_file = scan_dir / f'{scan_id}_voxelized.ply'\n",
    "print(f'Saving to: {out_file}')\n",
    "PlyData([elem]).write(out_file)"
   ]
  },
  {
   "cell_type": "markdown",
   "id": "1e0d0360-67a5-449e-96ff-ef37dc9a9c3a",
   "metadata": {},
   "source": [
    "# Read back from file"
   ]
  },
  {
   "cell_type": "code",
   "execution_count": null,
   "id": "4233cf23-45ec-49d1-956f-447cf0ad2c13",
   "metadata": {},
   "outputs": [],
   "source": [
    "c, r, l = load_ply(out_file, read_label=True)\n",
    "print(c.shape, r.shape, l.shape)\n",
    "print(c.dtype, r.dtype, l.dtype)\n",
    "print(c.min(axis=0), c.max(axis=0))\n",
    "print(r.min(axis=0), r.max(axis=0))\n",
    "print(l.min(), l.max())"
   ]
  }
 ],
 "metadata": {
  "kernelspec": {
   "display_name": "Python 3",
   "language": "python",
   "name": "python3"
  },
  "language_info": {
   "codemirror_mode": {
    "name": "ipython",
    "version": 3
   },
   "file_extension": ".py",
   "mimetype": "text/x-python",
   "name": "python",
   "nbconvert_exporter": "python",
   "pygments_lexer": "ipython3",
   "version": "3.8.8"
  }
 },
 "nbformat": 4,
 "nbformat_minor": 5
}
