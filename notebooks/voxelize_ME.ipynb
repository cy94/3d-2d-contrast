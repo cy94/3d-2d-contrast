{
 "cells": [
  {
   "cell_type": "code",
   "execution_count": 1,
   "id": "be9f16ba-3c1d-4929-b01c-e9948d65f9d7",
   "metadata": {},
   "outputs": [],
   "source": [
    "%matplotlib inline\n",
    "%load_ext autoreload\n",
    "%autoreload 2"
   ]
  },
  {
   "cell_type": "code",
   "execution_count": 13,
   "id": "6a11aeda-1afd-4ba6-bc7b-9ef56c610db7",
   "metadata": {},
   "outputs": [],
   "source": [
    "import torch\n",
    "import csv\n",
    "\n",
    "import cv2\n",
    "import numpy as np\n",
    "\n",
    "from tqdm import tqdm\n",
    "\n",
    "import os, os.path as osp\n",
    "from pathlib import Path\n",
    "\n",
    "from MinkowskiEngine.utils import sparse_quantize\n",
    "\n",
    "from plyfile import PlyElement, PlyData\n",
    "\n",
    "from datasets.scannet.utils import load_ply"
   ]
  },
  {
   "cell_type": "markdown",
   "id": "c85d6faf-d3a9-4fc6-a20b-2c7eaae0d115",
   "metadata": {},
   "source": [
    "# File names and params"
   ]
  },
  {
   "cell_type": "code",
   "execution_count": 3,
   "id": "42a4d192-fd5c-43dc-9447-2550f3c67ae4",
   "metadata": {},
   "outputs": [],
   "source": [
    "DATA_DIR = Path('/mnt/data/scannet/scans/')\n",
    "\n",
    "voxel_size = 0.05\n",
    "\n",
    "scan_id = 'scene0000_00'\n",
    "scan_dir = DATA_DIR / scan_id\n",
    "label_file = DATA_DIR.parent / 'scannetv2-labels.combined.tsv'\n",
    "\n",
    "input_file = f'{scan_id}_vh_clean_2.ply' \n",
    "gt_file = f'{scan_id}_vh_clean_2.labels.ply' "
   ]
  },
  {
   "cell_type": "code",
   "execution_count": 4,
   "id": "09675f01-b819-4059-96ee-9beafd941a7c",
   "metadata": {},
   "outputs": [
    {
     "name": "stdout",
     "output_type": "stream",
     "text": [
      "(81369, 3) (81369, 3) (81369,)\n",
      "NYU Labels: (81369,) Range: 0 40 Unique: 24\n"
     ]
    }
   ],
   "source": [
    "# read colors from input file\n",
    "_, rgb, _ = load_ply(scan_dir / input_file)\n",
    "# read coords and labels from GT file\n",
    "coords, _, labels = load_ply(scan_dir / gt_file, read_label=True)\n",
    "print(coords.shape, rgb.shape, labels.shape)\n",
    "\n",
    "print('NYU Labels:', labels.shape, 'Range:', labels.min(), labels.max(), \n",
    "      'Unique:', len(np.unique(labels)))"
   ]
  },
  {
   "cell_type": "markdown",
   "id": "27f94842-f836-47ad-9acf-46752a8932b3",
   "metadata": {},
   "source": [
    "# Voxelize with Minkowski Engine"
   ]
  },
  {
   "cell_type": "code",
   "execution_count": 5,
   "id": "461eb3d3-5d8a-4831-af8b-d8cf76fe5133",
   "metadata": {},
   "outputs": [
    {
     "name": "stdout",
     "output_type": "stream",
     "text": [
      "(53518, 3) (53518, 3) (53518,)\n"
     ]
    }
   ],
   "source": [
    "coords_vox, rgb_vox, labels_vox = sparse_quantize(coords, rgb, labels, quantization_size=voxel_size)\n",
    "print(coords_vox.shape, rgb_vox.shape, labels_vox.shape)"
   ]
  },
  {
   "cell_type": "code",
   "execution_count": 28,
   "id": "5e57ce63-4dd1-4f72-80e2-e1785251075e",
   "metadata": {},
   "outputs": [
    {
     "name": "stdout",
     "output_type": "stream",
     "text": [
      "int32 float32 int32\n",
      "-100 40\n"
     ]
    }
   ],
   "source": [
    "print(coords_vox.dtype, rgb_vox.dtype, labels_vox.dtype)\n",
    "print(labels_vox.min(), labels_vox.max())"
   ]
  },
  {
   "cell_type": "code",
   "execution_count": 30,
   "id": "2e1205ab-8f8e-495f-a64d-e51b5ee884d4",
   "metadata": {},
   "outputs": [
    {
     "name": "stdout",
     "output_type": "stream",
     "text": [
      "[5. 5. 1.] [255. 255. 255.]\n"
     ]
    }
   ],
   "source": [
    "print(rgb_vox.min(axis=0), rgb_vox.max(axis=0))"
   ]
  },
  {
   "cell_type": "code",
   "execution_count": 29,
   "id": "85a0e017-af83-478e-96fe-b28645c72ee1",
   "metadata": {},
   "outputs": [
    {
     "data": {
      "text/plain": [
       "1943"
      ]
     },
     "execution_count": 29,
     "metadata": {},
     "output_type": "execute_result"
    }
   ],
   "source": [
    "(labels_vox == -100).sum()"
   ]
  },
  {
   "cell_type": "markdown",
   "id": "3a3160bd-3818-4bbf-bc82-72c5b6ed9372",
   "metadata": {},
   "source": [
    "# Compare coordinates before and after voxelization"
   ]
  },
  {
   "cell_type": "code",
   "execution_count": 7,
   "id": "7e61f37a-d4c0-4ce3-989b-ea52cb62628f",
   "metadata": {},
   "outputs": [
    {
     "data": {
      "text/plain": [
       "(array([-0.01656916, -0.00354378, -0.00058457], dtype=float32),\n",
       " array([8.408409, 8.740397, 3.024793], dtype=float32))"
      ]
     },
     "execution_count": 7,
     "metadata": {},
     "output_type": "execute_result"
    }
   ],
   "source": [
    "coords.min(axis=0), coords.max(axis=0)"
   ]
  },
  {
   "cell_type": "code",
   "execution_count": 8,
   "id": "4c20393e-e970-4a12-8f16-7e52e109c717",
   "metadata": {},
   "outputs": [
    {
     "data": {
      "text/plain": [
       "(array([-1, -1, -1], dtype=int32), array([168, 174,  60], dtype=int32))"
      ]
     },
     "execution_count": 8,
     "metadata": {},
     "output_type": "execute_result"
    }
   ],
   "source": [
    "coords_vox.min(axis=0), coords_vox.max(axis=0)"
   ]
  },
  {
   "cell_type": "code",
   "execution_count": 9,
   "id": "fa518fe1-1fb3-4e12-87cc-a93a01dced5f",
   "metadata": {},
   "outputs": [
    {
     "data": {
      "text/plain": [
       "(array([-0.05, -0.05, -0.05]), array([8.4, 8.7, 3. ]))"
      ]
     },
     "execution_count": 9,
     "metadata": {},
     "output_type": "execute_result"
    }
   ],
   "source": [
    "coords_vox.min(axis=0) * voxel_size, coords_vox.max(axis=0) * voxel_size"
   ]
  },
  {
   "cell_type": "code",
   "execution_count": 10,
   "id": "04a02e19-8a6e-4938-aabd-00d0c0180534",
   "metadata": {},
   "outputs": [
    {
     "data": {
      "text/plain": [
       "array([10, 90,  5], dtype=int32)"
      ]
     },
     "execution_count": 10,
     "metadata": {},
     "output_type": "execute_result"
    }
   ],
   "source": [
    "coords_vox[0]"
   ]
  },
  {
   "cell_type": "markdown",
   "id": "03ea54d9-fe99-4854-9f6f-8dcb952df412",
   "metadata": {},
   "source": [
    "## save point cloud to file"
   ]
  },
  {
   "cell_type": "code",
   "execution_count": 22,
   "id": "a5641091-1acb-4938-aabf-1f3e521ab5eb",
   "metadata": {},
   "outputs": [
    {
     "name": "stdout",
     "output_type": "stream",
     "text": [
      "Saving to: /mnt/data/scannet/scans/scene0000_00/scene0000_00_voxelized.ply\n"
     ]
    }
   ],
   "source": [
    "# store everything in one array for the PLY file\n",
    "arr = np.array([tuple(coords_vox[i]) + tuple(rgb_vox[i]) + (labels_vox[i],) for i in range(len(coords_vox))], \n",
    "               dtype=[('x', 'f4'), ('y', 'f4'), ('z', 'f4'), ('red', 'f4'), ('green', 'f4'), ('blue', 'f4'), ('label', 'i4')])\n",
    "\n",
    "elem = PlyElement.describe(arr, 'vertex')\n",
    "\n",
    "out_file = scan_dir / f'{scan_id}_voxelized.ply'\n",
    "print(f'Saving to: {out_file}')\n",
    "PlyData([elem]).write(out_file)"
   ]
  },
  {
   "cell_type": "markdown",
   "id": "1e0d0360-67a5-449e-96ff-ef37dc9a9c3a",
   "metadata": {},
   "source": [
    "# Read back from file"
   ]
  },
  {
   "cell_type": "code",
   "execution_count": 27,
   "id": "4233cf23-45ec-49d1-956f-447cf0ad2c13",
   "metadata": {},
   "outputs": [
    {
     "name": "stdout",
     "output_type": "stream",
     "text": [
      "(53518, 3) (53518, 3) (53518,)\n",
      "float32 float32 int32\n",
      "[-1. -1. -1.] [168. 174.  60.]\n",
      "[5. 5. 1.] [255. 255. 255.]\n",
      "-100 40\n"
     ]
    }
   ],
   "source": [
    "c, r, l = load_ply(out_file, read_label=True)\n",
    "print(c.shape, r.shape, l.shape)\n",
    "print(c.dtype, r.dtype, l.dtype)\n",
    "print(c.min(axis=0), c.max(axis=0))\n",
    "print(r.min(axis=0), r.max(axis=0))\n",
    "print(l.min(), l.max())"
   ]
  }
 ],
 "metadata": {
  "kernelspec": {
   "display_name": "Python 3",
   "language": "python",
   "name": "python3"
  },
  "language_info": {
   "codemirror_mode": {
    "name": "ipython",
    "version": 3
   },
   "file_extension": ".py",
   "mimetype": "text/x-python",
   "name": "python",
   "nbconvert_exporter": "python",
   "pygments_lexer": "ipython3",
   "version": "3.8.8"
  }
 },
 "nbformat": 4,
 "nbformat_minor": 5
}
