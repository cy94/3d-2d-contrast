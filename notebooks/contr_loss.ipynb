{
 "cells": [
  {
   "cell_type": "markdown",
   "id": "42fc2454-96f5-4649-9d90-e2238cb4d9c7",
   "metadata": {},
   "source": [
    "# Hardest negative contrastive loss"
   ]
  },
  {
   "cell_type": "code",
   "execution_count": 1,
   "id": "d0a7a638-7cc1-487b-982f-69eff7ad665a",
   "metadata": {},
   "outputs": [],
   "source": [
    "%matplotlib inline\n",
    "%load_ext autoreload\n",
    "%autoreload 2"
   ]
  },
  {
   "cell_type": "code",
   "execution_count": 2,
   "id": "f384a30e-d08c-427c-8181-72c9549feae7",
   "metadata": {},
   "outputs": [],
   "source": [
    "import torch"
   ]
  },
  {
   "cell_type": "code",
   "execution_count": 28,
   "id": "53631040-4660-4acc-993c-9e6ec66bac8c",
   "metadata": {},
   "outputs": [],
   "source": [
    "n_points = 4\n",
    "margin_pos = 0.1\n",
    "margin_neg = 1.4\n",
    "feat_dim = 4"
   ]
  },
  {
   "cell_type": "code",
   "execution_count": 29,
   "id": "1071b7db-ddbb-49a8-a212-a467cb62468b",
   "metadata": {},
   "outputs": [],
   "source": [
    "feat2d = torch.randn(1, n_points, feat_dim)\n",
    "feat3d = torch.randn(1, n_points, feat_dim)"
   ]
  },
  {
   "cell_type": "code",
   "execution_count": 30,
   "id": "cfc7fee8-a43d-4791-9935-230aa2045c0c",
   "metadata": {},
   "outputs": [],
   "source": [
    "eps = 1e-6\n",
    "feat2d_norm = feat2d / (torch.norm(feat2d, p=2, dim=1, keepdim=True).detach() + eps)\n",
    "feat3d_norm = feat3d / (torch.norm(feat3d, p=2, dim=1, keepdim=True).detach() + eps)"
   ]
  },
  {
   "cell_type": "code",
   "execution_count": 31,
   "id": "8cf61795-2330-4c48-a234-60516ab1ea42",
   "metadata": {},
   "outputs": [
    {
     "data": {
      "text/plain": [
       "tensor([[[-0.5286,  0.9696,  0.4711,  0.2617],\n",
       "         [-0.5332,  0.0247, -0.6069, -0.3971],\n",
       "         [-0.0604,  0.2373, -0.4226, -0.5069],\n",
       "         [-0.6577, -0.0536, -0.4807,  0.7189]]])"
      ]
     },
     "execution_count": 31,
     "metadata": {},
     "output_type": "execute_result"
    }
   ],
   "source": [
    "feat2d_norm"
   ]
  },
  {
   "cell_type": "code",
   "execution_count": 32,
   "id": "38fdd6a8-da8e-4c88-a248-1331a8af8ed0",
   "metadata": {},
   "outputs": [
    {
     "data": {
      "text/plain": [
       "tensor([[[-0.2904, -0.0780, -0.6476,  0.2456],\n",
       "         [-0.6682,  0.2467, -0.4937, -0.1344],\n",
       "         [ 0.6682,  0.7578, -0.0304,  0.9531],\n",
       "         [ 0.1509, -0.5990,  0.5796,  0.1148]]])"
      ]
     },
     "execution_count": 32,
     "metadata": {},
     "output_type": "execute_result"
    }
   ],
   "source": [
    "feat3d_norm"
   ]
  },
  {
   "cell_type": "code",
   "execution_count": 35,
   "id": "808aa542-13f8-4ff0-bcf5-33fcf6bb1e88",
   "metadata": {},
   "outputs": [
    {
     "data": {
      "text/plain": [
       "tensor([[1.5512, 1.2766, 1.4856, 1.7192],\n",
       "        [0.6958, 0.3865, 2.0337, 1.5896],\n",
       "        [0.8770, 0.7164, 1.7571, 1.4612],\n",
       "        [0.6225, 0.9048, 1.6352, 1.5622]])"
      ]
     },
     "execution_count": 35,
     "metadata": {},
     "output_type": "execute_result"
    }
   ],
   "source": [
    "dists = torch.cdist(feat2d_norm, feat3d_norm).squeeze()\n",
    "dists"
   ]
  },
  {
   "cell_type": "code",
   "execution_count": 36,
   "id": "8f7db9a0-32ad-4514-9640-fa84cf415b71",
   "metadata": {},
   "outputs": [],
   "source": [
    "loss_pos = ((dists.diagonal() - margin_pos)**2).mean()"
   ]
  },
  {
   "cell_type": "code",
   "execution_count": 39,
   "id": "5b659774-d20e-4636-a5ff-e8fe40462abc",
   "metadata": {},
   "outputs": [
    {
     "data": {
      "text/plain": [
       "tensor([[   inf, 1.2766, 1.4856, 1.7192],\n",
       "        [0.6958,    inf, 2.0337, 1.5896],\n",
       "        [0.8770, 0.7164,    inf, 1.4612],\n",
       "        [0.6225, 0.9048, 1.6352,    inf]])"
      ]
     },
     "execution_count": 39,
     "metadata": {},
     "output_type": "execute_result"
    }
   ],
   "source": [
    "# set diagonal to inf, then find the closest negatives\n",
    "ind = torch.arange(dists.shape[0])\n",
    "dists[ind, ind] = float('inf')\n",
    "dists"
   ]
  },
  {
   "cell_type": "code",
   "execution_count": 43,
   "id": "5f1e6934-58aa-438e-a43b-7e6ff5bfdef1",
   "metadata": {},
   "outputs": [
    {
     "data": {
      "text/plain": [
       "(tensor([1.2766, 0.6958, 0.7164, 0.6225]),\n",
       " tensor([0.6225, 0.7164, 1.4856, 1.4612]))"
      ]
     },
     "execution_count": 43,
     "metadata": {},
     "output_type": "execute_result"
    }
   ],
   "source": [
    "dists.min(axis=1)[0], dists.min(axis=0)[0]"
   ]
  },
  {
   "cell_type": "code",
   "execution_count": 45,
   "id": "06e506da-580e-4c5e-9303-3ff8ad22ff23",
   "metadata": {},
   "outputs": [
    {
     "data": {
      "text/plain": [
       "tensor(0.3332)"
      ]
     },
     "execution_count": 45,
     "metadata": {},
     "output_type": "execute_result"
    }
   ],
   "source": [
    "loss_neg = 0.5*((margin_neg - dists.min(axis=1)[0])**2 + (margin_neg - dists.min(axis=0)[0])**2).mean()\n",
    "loss_neg"
   ]
  },
  {
   "cell_type": "code",
   "execution_count": 52,
   "id": "55e87857-5cdb-42c7-96a5-51e4f4d4fcbd",
   "metadata": {},
   "outputs": [
    {
     "data": {
      "text/plain": [
       "tensor(2.1012)"
      ]
     },
     "execution_count": 52,
     "metadata": {},
     "output_type": "execute_result"
    }
   ],
   "source": [
    "loss = loss_pos + loss_neg\n",
    "loss"
   ]
  }
 ],
 "metadata": {
  "kernelspec": {
   "display_name": "Python 3",
   "language": "python",
   "name": "python3"
  },
  "language_info": {
   "codemirror_mode": {
    "name": "ipython",
    "version": 3
   },
   "file_extension": ".py",
   "mimetype": "text/x-python",
   "name": "python",
   "nbconvert_exporter": "python",
   "pygments_lexer": "ipython3",
   "version": "3.8.8"
  }
 },
 "nbformat": 4,
 "nbformat_minor": 5
}
