{
 "cells": [
  {
   "cell_type": "code",
   "execution_count": null,
   "id": "6c19c801-12ae-41f5-b71f-36e42df6b0b5",
   "metadata": {},
   "outputs": [],
   "source": [
    "# change -1 labels to 40 (target padding)"
   ]
  },
  {
   "cell_type": "code",
   "execution_count": null,
   "id": "a97e9a53-9755-4204-8a05-278f30fc6956",
   "metadata": {},
   "outputs": [],
   "source": [
    "%matplotlib inline\n",
    "%load_ext autoreload\n",
    "%autoreload 2"
   ]
  },
  {
   "cell_type": "code",
   "execution_count": null,
   "id": "9864b38d-4311-414f-bdd4-8314aafb4001",
   "metadata": {},
   "outputs": [],
   "source": [
    "from tqdm import tqdm\n",
    "import h5py\n",
    "import os\n",
    "import numpy as np\n",
    "import torch\n",
    "from pathlib import Path"
   ]
  },
  {
   "cell_type": "code",
   "execution_count": null,
   "id": "7fcdc5ac-c3d1-4587-97d3-2b735b632a19",
   "metadata": {},
   "outputs": [],
   "source": [
    "data_dir = Path('/mnt/data/scannet/backproj')\n",
    "fname = 'val-v5.h5'\n",
    "outf = h5py.File(data_dir / fname, 'r+')\n",
    "\n",
    "\n",
    "for ndx in tqdm(range(outf['y'].shape[0])):\n",
    "    y = outf['y'][ndx]\n",
    "    y[y < 0] = 40\n",
    "    outf['y'][ndx] = y\n",
    "\n",
    "outf.close()"
   ]
  },
  {
   "cell_type": "code",
   "execution_count": null,
   "id": "a5a78941-9a97-4533-bc01-d3859231c0df",
   "metadata": {},
   "outputs": [],
   "source": [
    "data_dir = Path('/mnt/data/scannet/backproj')\n",
    "fname = 'val-v3.h5'\n",
    "f = h5py.File(data_dir / fname, 'r')"
   ]
  },
  {
   "cell_type": "code",
   "execution_count": null,
   "id": "1c8542a0-1da4-4bcf-8034-61a012c82bec",
   "metadata": {},
   "outputs": [],
   "source": [
    "(f['y'][10000] < 0).sum()"
   ]
  },
  {
   "cell_type": "markdown",
   "id": "81acc7b3-f296-40f9-a7cb-735cd9928ed7",
   "metadata": {},
   "source": [
    "## Fix labels in PTH files"
   ]
  },
  {
   "cell_type": "code",
   "execution_count": null,
   "id": "f89735ae-db12-4b06-98c1-a9114d0c1a43",
   "metadata": {},
   "outputs": [],
   "source": [
    "root = Path('/mnt/data/scannet/scans')\n",
    "unique_labels = set()\n",
    "for scan in tqdm(os.listdir(root)):\n",
    "    data_path = root / scan / f'{scan}_occ_grid.pth'\n",
    "    data = torch.load(data_path)\n",
    "    y = data['y']\n",
    "    y = y.astype(np.int16)\n",
    "    y[y == 65535] = -1\n",
    "    data['y'] = y\n",
    "    torch.save(data, data_path)\n"
   ]
  }
 ],
 "metadata": {
  "kernelspec": {
   "display_name": "Python 3",
   "language": "python",
   "name": "python3"
  },
  "language_info": {
   "codemirror_mode": {
    "name": "ipython",
    "version": 3
   },
   "file_extension": ".py",
   "mimetype": "text/x-python",
   "name": "python",
   "nbconvert_exporter": "python",
   "pygments_lexer": "ipython3",
   "version": "3.8.8"
  }
 },
 "nbformat": 4,
 "nbformat_minor": 5
}
