{
 "cells": [
  {
   "cell_type": "code",
   "execution_count": 3,
   "id": "6c19c801-12ae-41f5-b71f-36e42df6b0b5",
   "metadata": {},
   "outputs": [],
   "source": [
    "# change -1 labels to 40 (target padding)"
   ]
  },
  {
   "cell_type": "code",
   "execution_count": 1,
   "id": "a97e9a53-9755-4204-8a05-278f30fc6956",
   "metadata": {},
   "outputs": [],
   "source": [
    "%matplotlib inline\n",
    "%load_ext autoreload\n",
    "%autoreload 2"
   ]
  },
  {
   "cell_type": "code",
   "execution_count": 2,
   "id": "9864b38d-4311-414f-bdd4-8314aafb4001",
   "metadata": {},
   "outputs": [],
   "source": [
    "from tqdm import tqdm\n",
    "import h5py\n",
    "from pathlib import Path"
   ]
  },
  {
   "cell_type": "code",
   "execution_count": 23,
   "id": "7fcdc5ac-c3d1-4587-97d3-2b735b632a19",
   "metadata": {},
   "outputs": [
    {
     "name": "stderr",
     "output_type": "stream",
     "text": [
      "100%|██████████| 31200/31200 [00:12<00:00, 2516.97it/s]\n"
     ]
    }
   ],
   "source": [
    "data_dir = Path('/mnt/data/scannet/backproj')\n",
    "fname = 'val-v3.h5'\n",
    "outf = h5py.File(data_dir / fname, 'r+')\n",
    "\n",
    "\n",
    "for ndx in tqdm(range(outf['y'].shape[0])):\n",
    "    y = outf['y'][ndx]\n",
    "    y[y < 0] = 40\n",
    "    outf['y'][ndx] = y\n",
    "\n",
    "outf.close()"
   ]
  },
  {
   "cell_type": "code",
   "execution_count": 7,
   "id": "a5a78941-9a97-4533-bc01-d3859231c0df",
   "metadata": {},
   "outputs": [],
   "source": [
    "data_dir = Path('/mnt/data/scannet/backproj')\n",
    "fname = 'val-v3.h5'\n",
    "f = h5py.File(data_dir / fname, 'r')"
   ]
  },
  {
   "cell_type": "code",
   "execution_count": 15,
   "id": "1c8542a0-1da4-4bcf-8034-61a012c82bec",
   "metadata": {},
   "outputs": [
    {
     "data": {
      "text/plain": [
       "0"
      ]
     },
     "execution_count": 15,
     "metadata": {},
     "output_type": "execute_result"
    }
   ],
   "source": [
    "(f['y'][10000] < 0).sum()"
   ]
  }
 ],
 "metadata": {
  "kernelspec": {
   "display_name": "Python 3",
   "language": "python",
   "name": "python3"
  },
  "language_info": {
   "codemirror_mode": {
    "name": "ipython",
    "version": 3
   },
   "file_extension": ".py",
   "mimetype": "text/x-python",
   "name": "python",
   "nbconvert_exporter": "python",
   "pygments_lexer": "ipython3",
   "version": "3.8.8"
  }
 },
 "nbformat": 4,
 "nbformat_minor": 5
}
