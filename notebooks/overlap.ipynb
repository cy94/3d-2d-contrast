{
 "cells": [
  {
   "cell_type": "code",
   "execution_count": null,
   "id": "202361bf-3a50-4f0e-ac68-2d703cfbf226",
   "metadata": {},
   "outputs": [],
   "source": [
    "%matplotlib inline\n",
    "%load_ext autoreload\n",
    "%autoreload 2"
   ]
  },
  {
   "cell_type": "code",
   "execution_count": null,
   "id": "d71e3f38-6037-4ff9-8c8a-7a0a04aab107",
   "metadata": {},
   "outputs": [],
   "source": [
    "import os\n",
    "os.environ['PYOPENGL_PLATFORM'] = 'egl'\n",
    "\n",
    "from pathlib import Path\n",
    "import trimesh\n",
    "import pyrender\n",
    "import h5py\n",
    "import numpy as np\n",
    "import torch\n",
    "import os, os.path as osp\n",
    "from tqdm import tqdm\n",
    "import matplotlib.pyplot as plt\n",
    "from skimage.feature import plot_matches\n",
    "import cv2\n",
    "from PIL import Image\n",
    "\n",
    "from datasets.scannet.utils_3d import ProjectionHelper, adjust_intrinsic, make_intrinsic, load_intrinsic, load_pose\n",
    "from datasets.scannet.utils_3d import load_depth, load_color\n",
    "from scripts.sem_seg.prep_backproj_data import get_world_to_scene"
   ]
  },
  {
   "cell_type": "code",
   "execution_count": null,
   "id": "d0923236-79b1-4804-b4c7-108896794137",
   "metadata": {},
   "outputs": [],
   "source": [
    "def get_scan_name(scene_id, scan_id):\n",
    "    return f'scene{str(scene_id).zfill(4)}_{str(scan_id).zfill(2)}'\n",
    "\n",
    "# globals\n",
    "subvol_size = (32, 32, 32)\n",
    "voxel_size = 0.05\n",
    "voxel_dims = (1, 1, 1)\n",
    "root = Path('/mnt/data/scannet/scans')\n",
    "proj_img_size = (40, 30)\n",
    "\n",
    "data_dir = Path('/mnt/data/scannet/backproj')\n",
    "fname = 'train100-v6.h5'\n",
    "f = h5py.File(data_dir / fname, 'r')\n",
    "\n"
   ]
  },
  {
   "cell_type": "code",
   "execution_count": null,
   "id": "34525659-4351-479c-a5e4-3c76293fabee",
   "metadata": {},
   "outputs": [],
   "source": [
    "f['x'].shape"
   ]
  },
  {
   "cell_type": "code",
   "execution_count": null,
   "id": "1bfaa373-32e7-4c7f-bb8b-e6f0f02486ee",
   "metadata": {},
   "outputs": [],
   "source": [
    "for ndx in tqdm(range(f['x'].shape[0])):\n",
    "    if f['x'][ndx].max() != 1:\n",
    "        print(ndx)\n",
    "        break"
   ]
  },
  {
   "cell_type": "code",
   "execution_count": null,
   "id": "5907cf8b-e859-4d6d-bdad-f397efd80d6a",
   "metadata": {},
   "outputs": [],
   "source": [
    "occupied, projected, overlap = [], [], []\n",
    "\n",
    "for ndx in tqdm(range(1000)):\n",
    "    w2g, sceneid, scanid, frames = f['world_to_grid'][ndx], f['scene_id'][ndx], f['scan_id'][ndx], f['frames'][ndx]\n",
    "\n",
    "    subvol_x = f['x'][ndx]\n",
    "    # per-scene basics\n",
    "    scan_name = get_scan_name(sceneid, scanid)\n",
    "    frame_ndx = 0\n",
    "    pose_path = root / scan_name / 'pose' / f'{frames[frame_ndx]}.txt'\n",
    "    pose = load_pose(pose_path).numpy()\n",
    "    depth_path = root / scan_name / 'depth' / f'{frames[frame_ndx]}.png' \n",
    "    depth = load_depth(depth_path, proj_img_size)\n",
    "    rgb_path = root / scan_name / 'color' / f'{frames[frame_ndx]}.jpg' \n",
    "    rgb = load_color(rgb_path, proj_img_size)\n",
    "    # get projection\n",
    "    intrinsic_path = root / scan_name / 'intrinsic/intrinsic_color.txt'\n",
    "    intrinsic = load_intrinsic(intrinsic_path)\n",
    "    # adjust for smaller image size\n",
    "    intrinsic = adjust_intrinsic(intrinsic, [1296, 968], proj_img_size)\n",
    "\n",
    "    projection = ProjectionHelper(\n",
    "                intrinsic, \n",
    "                0.4, 4.0,\n",
    "                proj_img_size,\n",
    "                subvol_size, voxel_size\n",
    "            )\n",
    "\n",
    "    # projection expects origin of chunk in a corner\n",
    "    # but w2g is wrt center of the chunk -> add 16 to its \"grid coords\" to get the required grid coords\n",
    "    # ie 0,0,0 becomes 16,16,16\n",
    "    # add an additional translation to existing one \n",
    "    t = torch.eye(4)\n",
    "    t[:3, -1] = 16\n",
    "    w2g_tmp = t @ w2g\n",
    "\n",
    "    proj = projection.compute_projection(torch.Tensor(depth), torch.Tensor(pose), torch.Tensor(w2g_tmp))\n",
    "    if proj is None: \n",
    "        continue\n",
    "    proj3d, proj2d = proj\n",
    "    num_inds = proj3d[0]\n",
    "\n",
    "    ind3d = proj3d[1:1+num_inds]\n",
    "    ind2d = proj2d[1:1+num_inds]\n",
    "\n",
    "    coords_3d = torch.empty(4, num_inds)\n",
    "    coords_3d = ProjectionHelper.lin_ind_to_coords_static(ind3d, coords_3d, subvol_size).T[:, :-1].long()\n",
    "    i,j,k = coords_3d.T\n",
    "\n",
    "#     print('Num correspondences:', proj3d[0].item())\n",
    "#     print('Occupied voxels:', (subvol_x == 1).sum())\n",
    "#     print('Overlap: ', (subvol_x[i, j, k] == 1).sum())\n",
    "    projected.append(proj3d[0].item())\n",
    "    occupied.append((subvol_x == 1).sum())\n",
    "    overlap.append((subvol_x[i, j, k] == 1).sum())\n",
    "\n"
   ]
  },
  {
   "cell_type": "code",
   "execution_count": null,
   "id": "bfbe394d-5bdf-40f2-b9ea-668a9022827e",
   "metadata": {},
   "outputs": [],
   "source": [
    "projected = torch.Tensor(projected)\n",
    "occupied = torch.Tensor(occupied)\n",
    "overlap = torch.Tensor(overlap)"
   ]
  },
  {
   "cell_type": "code",
   "execution_count": null,
   "id": "75672f99-0dbf-44fa-a92b-06e2cb83cb4a",
   "metadata": {},
   "outputs": [],
   "source": [
    "def stats(x):\n",
    "    print(x.min(), x.max(), x.mean())"
   ]
  },
  {
   "cell_type": "code",
   "execution_count": null,
   "id": "7feb5d39-0154-4a69-8ee2-d828f8826cfb",
   "metadata": {},
   "outputs": [],
   "source": [
    "stats(projected)"
   ]
  },
  {
   "cell_type": "code",
   "execution_count": null,
   "id": "6c487e55-8060-4bbf-a41c-868edcb32db8",
   "metadata": {},
   "outputs": [],
   "source": [
    "stats(occupied)"
   ]
  },
  {
   "cell_type": "code",
   "execution_count": null,
   "id": "b3699e87-7c9e-4fff-be0e-8db798037dfd",
   "metadata": {},
   "outputs": [],
   "source": [
    "stats(overlap)"
   ]
  }
 ],
 "metadata": {
  "kernelspec": {
   "display_name": "Python 3",
   "language": "python",
   "name": "python3"
  },
  "language_info": {
   "codemirror_mode": {
    "name": "ipython",
    "version": 3
   },
   "file_extension": ".py",
   "mimetype": "text/x-python",
   "name": "python",
   "nbconvert_exporter": "python",
   "pygments_lexer": "ipython3",
   "version": "3.8.8"
  }
 },
 "nbformat": 4,
 "nbformat_minor": 5
}
