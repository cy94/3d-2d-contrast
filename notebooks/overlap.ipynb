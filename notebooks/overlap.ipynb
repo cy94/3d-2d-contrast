{
 "cells": [
  {
   "cell_type": "code",
   "execution_count": null,
   "id": "202361bf-3a50-4f0e-ac68-2d703cfbf226",
   "metadata": {},
   "outputs": [],
   "source": [
    "%matplotlib inline\n",
    "%load_ext autoreload\n",
    "%autoreload 2"
   ]
  },
  {
   "cell_type": "code",
   "execution_count": null,
   "id": "d71e3f38-6037-4ff9-8c8a-7a0a04aab107",
   "metadata": {},
   "outputs": [],
   "source": [
    "import os\n",
    "# os.environ['PYOPENGL_PLATFORM'] = 'egl'\n",
    "\n",
    "from pathlib import Path\n",
    "import trimesh\n",
    "import pyrender\n",
    "import h5py\n",
    "import numpy as np\n",
    "import torch\n",
    "import os, os.path as osp\n",
    "from tqdm import tqdm\n",
    "import matplotlib.pyplot as plt\n",
    "from skimage.feature import plot_matches\n",
    "import cv2\n",
    "from PIL import Image\n",
    "\n",
    "from datasets.scannet.utils_3d import ProjectionHelper, adjust_intrinsic, make_intrinsic, load_intrinsic, load_pose\n",
    "from datasets.scannet.utils_3d import load_depth, load_color\n",
    "\n",
    "from scripts.sem_seg.prep_backproj_data import get_world_to_scene"
   ]
  },
  {
   "cell_type": "code",
   "execution_count": null,
   "id": "d0923236-79b1-4804-b4c7-108896794137",
   "metadata": {},
   "outputs": [],
   "source": [
    "def get_scan_name(scene_id, scan_id):\n",
    "    return f'scene{str(scene_id).zfill(4)}_{str(scan_id).zfill(2)}'\n",
    "\n",
    "# globals\n",
    "subvol_size = (32, 32, 32)\n",
    "voxel_size = 0.05\n",
    "voxel_dims = (1, 1, 1)\n",
    "root = Path('/mnt/data/scannet/scans')\n",
    "proj_img_size = (40, 30)\n",
    "\n",
    "data_dir = Path('/mnt/data/scannet/backproj')\n",
    "fname = 'train100-v6.h5'\n",
    "f = h5py.File(data_dir / fname, 'r')\n",
    "\n"
   ]
  },
  {
   "cell_type": "code",
   "execution_count": null,
   "id": "34525659-4351-479c-a5e4-3c76293fabee",
   "metadata": {},
   "outputs": [],
   "source": [
    "f['x'].shape"
   ]
  },
  {
   "cell_type": "code",
   "execution_count": null,
   "id": "5907cf8b-e859-4d6d-bdad-f397efd80d6a",
   "metadata": {},
   "outputs": [],
   "source": [
    "occupied, projected, overlap = [], [], []\n",
    "\n",
    "for ndx in tqdm(range(1000)):\n",
    "    w2g, sceneid, scanid, frames = f['world_to_grid'][ndx], f['scene_id'][ndx], f['scan_id'][ndx], f['frames'][ndx]\n",
    "\n",
    "    subvol_x = f['x'][ndx]\n",
    "    # per-scene basics\n",
    "    scan_name = get_scan_name(sceneid, scanid)\n",
    "    frame_ndx = 0\n",
    "    pose_path = root / scan_name / 'pose' / f'{frames[frame_ndx]}.txt'\n",
    "    pose = load_pose(pose_path).numpy()\n",
    "    depth_path = root / scan_name / 'depth' / f'{frames[frame_ndx]}.png' \n",
    "    depth = load_depth(depth_path, proj_img_size)\n",
    "    rgb_path = root / scan_name / 'color' / f'{frames[frame_ndx]}.jpg' \n",
    "    rgb = load_color(rgb_path, proj_img_size)\n",
    "    # get projection\n",
    "    intrinsic_path = root / scan_name / 'intrinsic/intrinsic_color.txt'\n",
    "    intrinsic = load_intrinsic(intrinsic_path)\n",
    "    # adjust for smaller image size\n",
    "    intrinsic = adjust_intrinsic(intrinsic, [1296, 968], proj_img_size)\n",
    "\n",
    "    projection = ProjectionHelper(\n",
    "                intrinsic, \n",
    "                0.4, 4.0,\n",
    "                proj_img_size,\n",
    "                subvol_size, voxel_size\n",
    "            )\n",
    "\n",
    "    # projection expects origin of chunk in a corner\n",
    "    # but w2g is wrt center of the chunk -> add 16 to its \"grid coords\" to get the required grid coords\n",
    "    # ie 0,0,0 becomes 16,16,16\n",
    "    # add an additional translation to existing one \n",
    "    t = torch.eye(4)\n",
    "    t[:3, -1] = 16\n",
    "    w2g_tmp = t @ w2g\n",
    "\n",
    "    proj = projection.compute_projection(torch.Tensor(depth), torch.Tensor(pose), torch.Tensor(w2g_tmp))\n",
    "    if proj is None: \n",
    "        continue\n",
    "    proj3d, proj2d = proj\n",
    "    num_inds = proj3d[0]\n",
    "\n",
    "    ind3d = proj3d[1:1+num_inds]\n",
    "    ind2d = proj2d[1:1+num_inds]\n",
    "\n",
    "#     coords_3d = torch.empty(4, num_inds)\n",
    "    coords_3d = ProjectionHelper.lin_ind_to_coords_static(ind3d, subvol_size).T[:, :-1].long()\n",
    "    i,j,k = coords_3d.T\n",
    "\n",
    "#     print('Num correspondences:', proj3d[0].item())\n",
    "#     print('Occupied voxels:', (subvol_x == 1).sum())\n",
    "#     print('Overlap: ', (subvol_x[i, j, k] == 1).sum())\n",
    "    projected.append(proj3d[0].item())\n",
    "    occupied.append((subvol_x == 1).sum())\n",
    "    overlap.append((subvol_x[i, j, k] == 1).sum())\n",
    "\n"
   ]
  },
  {
   "cell_type": "code",
   "execution_count": null,
   "id": "bfbe394d-5bdf-40f2-b9ea-668a9022827e",
   "metadata": {},
   "outputs": [],
   "source": [
    "projected = torch.Tensor(projected)\n",
    "occupied = torch.Tensor(occupied)\n",
    "overlap = torch.Tensor(overlap)"
   ]
  },
  {
   "cell_type": "code",
   "execution_count": null,
   "id": "75672f99-0dbf-44fa-a92b-06e2cb83cb4a",
   "metadata": {},
   "outputs": [],
   "source": [
    "def stats(x):\n",
    "    print(x.min(), x.max(), x.mean())"
   ]
  },
  {
   "cell_type": "code",
   "execution_count": null,
   "id": "7feb5d39-0154-4a69-8ee2-d828f8826cfb",
   "metadata": {},
   "outputs": [],
   "source": [
    "stats(projected)"
   ]
  },
  {
   "cell_type": "code",
   "execution_count": null,
   "id": "6c487e55-8060-4bbf-a41c-868edcb32db8",
   "metadata": {},
   "outputs": [],
   "source": [
    "stats(occupied)"
   ]
  },
  {
   "cell_type": "code",
   "execution_count": null,
   "id": "b3699e87-7c9e-4fff-be0e-8db798037dfd",
   "metadata": {},
   "outputs": [],
   "source": [
    "stats(overlap)"
   ]
  },
  {
   "cell_type": "code",
   "execution_count": null,
   "id": "31709cc9-357b-4ac6-b7db-35183acd8526",
   "metadata": {},
   "outputs": [],
   "source": [
    "subvol_x.shape"
   ]
  },
  {
   "cell_type": "code",
   "execution_count": null,
   "id": "ca3932e1-54c0-4f13-8ddc-4fa8265a827f",
   "metadata": {},
   "outputs": [],
   "source": [
    "num_ind = 10\n",
    "inds = torch.randperm(32*32*32)[:num_ind]\n",
    "print(inds)\n",
    "coords_3d = ProjectionHelper.lin_ind_to_coords_static(inds, subvol_size).T[:, :-1].long()\n",
    "i,j,k = coords_3d.T\n",
    "# empty features tensor CWHD\n",
    "x = torch.zeros(2, 32, 32, 32)\n",
    "\n",
    "# CDHW\n",
    "# x = x.permute(0, 3, 2, 1)\n",
    "# x.reshape(2, -1)[:, inds] = torch.ones(2, num_ind)\n",
    "# # back to CWHD\n",
    "# x = x.permute(0, 3, 2, 1)\n",
    "\n",
    "# set values with ijk\n",
    "x[:, i, j, k] = torch.ones(2, num_ind)"
   ]
  },
  {
   "cell_type": "code",
   "execution_count": null,
   "id": "236e18f6-0851-433c-95c6-9a3c2e795d83",
   "metadata": {},
   "outputs": [],
   "source": [
    "# CWHD\n",
    "x[:, i, j, k]"
   ]
  },
  {
   "cell_type": "code",
   "execution_count": null,
   "id": "3b8d0cde-5d0b-4e89-ab5c-96fe3ad95585",
   "metadata": {},
   "outputs": [],
   "source": [
    "# CDHW\n",
    "x.permute(3, 2, 1, 0).reshape(-1, 2)[inds, :]\n",
    "# x.reshape(2, -1)[:, inds]"
   ]
  },
  {
   "cell_type": "code",
   "execution_count": null,
   "id": "e195ef1f-0d83-46b6-8ebf-70e06cfbd721",
   "metadata": {},
   "outputs": [],
   "source": [
    "x = torch.zeros(5, 5)\n",
    "x.reshape(-1)[10] = 10\n",
    "x"
   ]
  },
  {
   "cell_type": "code",
   "execution_count": null,
   "id": "58680909-b93b-44f9-9c7b-435d6063cbe5",
   "metadata": {},
   "outputs": [],
   "source": [
    "# CHW\n",
    "img_size = (40, 30)\n",
    "x2d = torch.zeros(2, img_size[1], img_size[0])\n",
    "num_ind = 10\n",
    "inds2d = torch.randperm(img_size[0]*img_size[1])[:num_ind]\n",
    "\n",
    "coords_2d = ProjectionHelper.lin_ind2d_to_coords2d_static(inds2d, (img_size))\n",
    "i, j = coords_2d\n",
    "print(x2d.sum())\n",
    "# CWH\n",
    "x2d = x2d.permute(0, 2, 1)\n",
    "# x2d.reshape(2, -1)[:, inds2d] = torch.ones(2, num_ind)\n",
    "# CWH\n",
    "x2d[:, i, j] = torch.ones(2, num_ind)\n",
    "print(x2d.sum(), x2d.shape)\n"
   ]
  },
  {
   "cell_type": "code",
   "execution_count": null,
   "id": "6182c8aa-4e25-4513-bf68-956a16cdc45e",
   "metadata": {},
   "outputs": [],
   "source": [
    "x2d[:, i, j]"
   ]
  },
  {
   "cell_type": "code",
   "execution_count": null,
   "id": "e887bef2-60a4-46d9-a2ab-894dffd83f4c",
   "metadata": {},
   "outputs": [],
   "source": [
    "# CHW\n",
    "x2d.permute(0, 2, 1).reshape(2, -1)[:, inds2d]"
   ]
  }
 ],
 "metadata": {
  "kernelspec": {
   "display_name": "Python 3",
   "language": "python",
   "name": "python3"
  },
  "language_info": {
   "codemirror_mode": {
    "name": "ipython",
    "version": 3
   },
   "file_extension": ".py",
   "mimetype": "text/x-python",
   "name": "python",
   "nbconvert_exporter": "python",
   "pygments_lexer": "ipython3",
   "version": "3.8.8"
  }
 },
 "nbformat": 4,
 "nbformat_minor": 5
}
