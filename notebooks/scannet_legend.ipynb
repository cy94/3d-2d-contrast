{
 "cells": [
  {
   "cell_type": "code",
   "execution_count": 1,
   "id": "376b4e47-6e66-4bae-862f-85b02604a5e2",
   "metadata": {},
   "outputs": [],
   "source": [
    "%matplotlib inline\n",
    "%load_ext autoreload\n",
    "%autoreload 2"
   ]
  },
  {
   "cell_type": "code",
   "execution_count": 4,
   "id": "3500b110-7440-424d-8054-8cf814147cd7",
   "metadata": {},
   "outputs": [],
   "source": [
    "import matplotlib.pyplot as plt\n",
    "import numpy as np\n",
    "import csv\n",
    "\n",
    "from datasets.scannet.common import CLASS_NAMES, VALID_CLASSES, create_color_palette"
   ]
  },
  {
   "cell_type": "code",
   "execution_count": 3,
   "id": "5c2663bb-6fcc-4ef9-977e-d315bec9180b",
   "metadata": {},
   "outputs": [
    {
     "data": {
      "image/png": "[encoded data removed]",
      "text/plain": [
       "<Figure size 720x360 with 20 Axes>"
      ]
     },
     "metadata": {
      "needs_background": "light"
     },
     "output_type": "display_data"
    }
   ],
   "source": [
    "colors = create_color_palette()\n",
    "cols = 8\n",
    "rows = (len(CLASS_NAMES) // cols) + 1\n",
    "\n",
    "fig = plt.figure(figsize=(10, 5))\n",
    "\n",
    "for ndx, clss in enumerate(VALID_CLASSES):\n",
    "    color = colors[clss] \n",
    "    name = CLASS_NAMES[ndx]\n",
    "    box = np.ones((5, 5, 3), dtype=np.uint8) * color\n",
    "    \n",
    "    fig.add_subplot(rows, cols, ndx + 1)\n",
    "    plt.axis('off')\n",
    "    plt.title(name)\n",
    "    plt.imshow(box)"
   ]
  },
  {
   "cell_type": "code",
   "execution_count": 8,
   "id": "ea6fffcf-cb3a-4b9d-b066-b77429cfc594",
   "metadata": {},
   "outputs": [],
   "source": [
    "# check scannet class IDs and labels\n",
    "label_file = '/mnt/data/scannet/scannetv2-labels.combined.tsv'\n",
    "mapping = {}\n",
    "with open(label_file) as csvfile:\n",
    "    reader = csv.DictReader(csvfile, delimiter='\\t')\n",
    "    for row in reader:\n",
    "        cls_id = row['id']\n",
    "        cls_name = row['category']\n",
    "        if int(cls_id) in VALID_CLASSES:\n",
    "            mapping[cls_id] = cls_name"
   ]
  },
  {
   "cell_type": "code",
   "execution_count": 10,
   "id": "c26b1944-2bb8-4ed1-8507-6f36a437dbcf",
   "metadata": {},
   "outputs": [
    {
     "data": {
      "text/plain": [
       "['bed',\n",
       " 'cabinet',\n",
       " 'chair',\n",
       " 'coffee table',\n",
       " 'couch',\n",
       " 'cushion',\n",
       " 'desk',\n",
       " 'door',\n",
       " 'dresser',\n",
       " 'floor',\n",
       " 'lamp',\n",
       " 'nightstand',\n",
       " 'office chair',\n",
       " 'shelf',\n",
       " 'sink',\n",
       " 'table',\n",
       " 'tv',\n",
       " 'wall',\n",
       " 'window']"
      ]
     },
     "execution_count": 10,
     "metadata": {},
     "output_type": "execute_result"
    }
   ],
   "source": [
    "# doesn't match with the benchmark\n",
    "sorted(mapping.values())"
   ]
  },
  {
   "cell_type": "code",
   "execution_count": 11,
   "id": "4827581d-7a19-49d8-a6ce-ed57221b95c4",
   "metadata": {},
   "outputs": [],
   "source": [
    "# check NYU40 class IDs and labels\n",
    "label_file = '/mnt/data/scannet/scannetv2-labels.combined.tsv'\n",
    "mapping = {}\n",
    "with open(label_file) as csvfile:\n",
    "    reader = csv.DictReader(csvfile, delimiter='\\t')\n",
    "    for row in reader:\n",
    "        cls_id = row['nyu40id']\n",
    "        cls_name = row['nyu40class']\n",
    "        if int(cls_id) in VALID_CLASSES:\n",
    "            mapping[cls_id] = cls_name"
   ]
  },
  {
   "cell_type": "code",
   "execution_count": 13,
   "id": "8ae43e7a-513f-4ba6-bed6-721b58fe6849",
   "metadata": {},
   "outputs": [
    {
     "data": {
      "text/plain": [
       "['bathtub',\n",
       " 'bed',\n",
       " 'bookshelf',\n",
       " 'cabinet',\n",
       " 'chair',\n",
       " 'counter',\n",
       " 'curtain',\n",
       " 'desk',\n",
       " 'door',\n",
       " 'floor',\n",
       " 'otherfurniture',\n",
       " 'picture',\n",
       " 'refridgerator',\n",
       " 'shower curtain',\n",
       " 'sink',\n",
       " 'sofa',\n",
       " 'table',\n",
       " 'toilet',\n",
       " 'wall',\n",
       " 'window']"
      ]
     },
     "execution_count": 13,
     "metadata": {},
     "output_type": "execute_result"
    }
   ],
   "source": [
    "# matches with the benchmark\n",
    "sorted(mapping.values())"
   ]
  }
 ],
 "metadata": {
  "kernelspec": {
   "display_name": "Python 3",
   "language": "python",
   "name": "python3"
  },
  "language_info": {
   "codemirror_mode": {
    "name": "ipython",
    "version": 3
   },
   "file_extension": ".py",
   "mimetype": "text/x-python",
   "name": "python",
   "nbconvert_exporter": "python",
   "pygments_lexer": "ipython3",
   "version": "3.8.8"
  }
 },
 "nbformat": 4,
 "nbformat_minor": 5
}
