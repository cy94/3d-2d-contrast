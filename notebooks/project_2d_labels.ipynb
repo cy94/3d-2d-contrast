{
 "cells": [
  {
   "cell_type": "code",
   "execution_count": null,
   "id": "767f1ece-1730-41cb-a225-036c113c65ae",
   "metadata": {},
   "outputs": [],
   "source": [
    "# project 2d labels onto 3d and calculate IOU\n",
    "# over train/val set"
   ]
  },
  {
   "cell_type": "code",
   "execution_count": null,
   "id": "953be4ed-626e-4e2c-8693-e9b5bd429808",
   "metadata": {},
   "outputs": [],
   "source": [
    "%matplotlib inline\n",
    "%load_ext autoreload\n",
    "%autoreload 2"
   ]
  },
  {
   "cell_type": "code",
   "execution_count": null,
   "id": "157bfa58-cd8c-49ce-a8bf-2aaee85582dc",
   "metadata": {},
   "outputs": [],
   "source": [
    "from pathlib import Path\n",
    "import h5py\n",
    "import numpy as np\n",
    "import torch\n",
    "import os, os.path as osp\n",
    "from tqdm import tqdm\n",
    "\n",
    "from datasets.scannet.utils_3d import ProjectionHelper, adjust_intrinsic, make_intrinsic, load_intrinsic, load_pose\n",
    "from datasets.scannet.utils_3d import load_depth"
   ]
  },
  {
   "cell_type": "code",
   "execution_count": null,
   "id": "bd4b934a-4df1-47f6-aa0b-571c937f0d5d",
   "metadata": {},
   "outputs": [],
   "source": [
    "def get_scan_name(scene_id, scan_id):\n",
    "    return f'scene{str(scene_id).zfill(4)}_{str(scan_id).zfill(2)}'\n",
    "\n",
    "# globals\n",
    "subvol_size = (32, 32, 32)\n",
    "voxel_size = 0.05\n",
    "voxel_dims = (1, 1, 1)\n",
    "root = Path('/mnt/data/scannet/scans')\n",
    "proj_img_size = (40, 30)\n",
    "\n",
    "data_dir = Path('/mnt/data/scannet/backproj')\n",
    "# fname = 'train100-v7.h5'\n",
    "fname = 'val-v5.h5'\n",
    "f = h5py.File(data_dir / fname, 'r')\n",
    "f['x'].shape"
   ]
  },
  {
   "cell_type": "code",
   "execution_count": null,
   "id": "1fd761e3-0741-4cac-ba2e-e9436b0385e9",
   "metadata": {},
   "outputs": [],
   "source": [
    "# init metrics"
   ]
  },
  {
   "cell_type": "code",
   "execution_count": null,
   "id": "5c6feb53-3ecd-43ac-bce1-5c893533cb19",
   "metadata": {},
   "outputs": [],
   "source": [
    "occupied, projected, overlap = [], [], []\n",
    "\n",
    "for ndx in tqdm(range(5000, 6000)):\n",
    "    w2g, sceneid, scanid, frames = f['world_to_grid'][ndx], f['scene_id'][ndx], f['scan_id'][ndx], f['frames'][ndx]\n",
    "\n",
    "    subvol_x = f['x'][ndx]\n",
    "    # per-scene basics\n",
    "    scan_name = get_scan_name(sceneid, scanid)\n",
    "    frame_ndx = 0\n",
    "    # val set - no frame, then skip\n",
    "    if frames[frame_ndx] == -1:\n",
    "        skipped += 1\n",
    "        continue\n",
    "    pose_path = root / scan_name / 'pose' / f'{frames[frame_ndx]}.txt'\n",
    "    pose = load_pose(pose_path).numpy()\n",
    "    depth_path = root / scan_name / 'depth' / f'{frames[frame_ndx]}.png' \n",
    "    depth = load_depth(depth_path, proj_img_size)\n",
    "    # get projection\n",
    "    intrinsic_path = root / scan_name / 'intrinsic/intrinsic_color.txt'\n",
    "    intrinsic = load_intrinsic(intrinsic_path)\n",
    "    # adjust for smaller image size\n",
    "    intrinsic = adjust_intrinsic(intrinsic, [1296, 968], proj_img_size)\n",
    "\n",
    "    projection = ProjectionHelper(\n",
    "                intrinsic, \n",
    "                0.4, 4.0,\n",
    "                proj_img_size,\n",
    "                subvol_size, voxel_size\n",
    "            )\n",
    "\n",
    "    # projection expects origin of chunk in a corner\n",
    "    # but w2g is wrt center of the chunk -> add 16 to its \"grid coords\" to get the required grid coords\n",
    "    # ie 0,0,0 becomes 16,16,16\n",
    "    # add an additional translation to existing one \n",
    "    t = torch.eye(4)\n",
    "    t[:3, -1] = 16\n",
    "    w2g_tmp = t @ w2g\n",
    "\n",
    "    proj = projection.compute_projection(torch.Tensor(depth), torch.Tensor(pose), torch.Tensor(w2g_tmp))\n",
    "    if proj is None: \n",
    "        continue\n",
    "    proj3d, proj2d = proj\n",
    "    num_inds = proj3d[0]\n",
    "\n",
    "    ind3d = proj3d[1:1+num_inds]\n",
    "    ind2d = proj2d[1:1+num_inds]\n",
    "\n",
    "    # load the label image\n",
    "    # get the label volume\n",
    "    # update metric\n",
    "# compute metric"
   ]
  }
 ],
 "metadata": {
  "kernelspec": {
   "display_name": "Python 3",
   "language": "python",
   "name": "python3"
  },
  "language_info": {
   "codemirror_mode": {
    "name": "ipython",
    "version": 3
   },
   "file_extension": ".py",
   "mimetype": "text/x-python",
   "name": "python",
   "nbconvert_exporter": "python",
   "pygments_lexer": "ipython3",
   "version": "3.8.8"
  }
 },
 "nbformat": 4,
 "nbformat_minor": 5
}
