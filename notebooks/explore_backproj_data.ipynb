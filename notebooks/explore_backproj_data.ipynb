{
 "cells": [
  {
   "cell_type": "code",
   "execution_count": 1,
   "id": "3d5d0547-edd2-4315-8689-1366ffd8e2c8",
   "metadata": {},
   "outputs": [],
   "source": [
    "from pathlib import Path\n",
    "import h5py"
   ]
  },
  {
   "cell_type": "code",
   "execution_count": 2,
   "id": "d5535562-3686-4ad4-8c66-e46d655382b0",
   "metadata": {},
   "outputs": [],
   "source": [
    "data_dir = Path('/mnt/data/scannet/backproj')\n",
    "fname = 'train1.h5'"
   ]
  },
  {
   "cell_type": "code",
   "execution_count": 3,
   "id": "72468b41-12a5-4cd1-9d46-02f098f28604",
   "metadata": {},
   "outputs": [],
   "source": [
    "f = h5py.File(data_dir / fname, 'r')"
   ]
  },
  {
   "cell_type": "code",
   "execution_count": 4,
   "id": "05d0999c-aaea-4233-89a9-d66e42fdd7c1",
   "metadata": {},
   "outputs": [
    {
     "data": {
      "text/plain": [
       "<KeysViewHDF5 ['frames', 'scan_id', 'scene_id', 'world_to_grid', 'x', 'y']>"
      ]
     },
     "execution_count": 4,
     "metadata": {},
     "output_type": "execute_result"
    }
   ],
   "source": [
    "f.keys()"
   ]
  },
  {
   "cell_type": "code",
   "execution_count": 6,
   "id": "3b612725-3fdd-4612-9928-f08d1464a63d",
   "metadata": {},
   "outputs": [
    {
     "name": "stdout",
     "output_type": "stream",
     "text": [
      "<HDF5 dataset \"x\": shape (1, 32, 32, 32), type \"<f4\">\n",
      "float32\n"
     ]
    }
   ],
   "source": [
    "# 3d volumes, no channels, 32^3 in XYZ format\n",
    "print(f['x'])\n",
    "print(f['x'].dtype)"
   ]
  },
  {
   "cell_type": "code",
   "execution_count": 8,
   "id": "c203a46a-a06d-4102-b0dd-37e1800e3479",
   "metadata": {},
   "outputs": [
    {
     "name": "stdout",
     "output_type": "stream",
     "text": [
      "<HDF5 dataset \"frames\": shape (1, 1), type \"<i2\">\n",
      "int16\n",
      "[700]\n"
     ]
    }
   ],
   "source": [
    "# corresponding nearest image indices for the subvol\n",
    "print(f['frames'])\n",
    "print(f['frames'].dtype)\n",
    "print(f['frames'][0])"
   ]
  },
  {
   "cell_type": "code",
   "execution_count": 12,
   "id": "5cacbfd9-532d-42c3-9d2c-15b1e5b0b459",
   "metadata": {},
   "outputs": [
    {
     "name": "stdout",
     "output_type": "stream",
     "text": [
      "<HDF5 dataset \"y\": shape (1, 32, 32, 32), type \"<i2\"> int16\n",
      "0 40\n"
     ]
    }
   ],
   "source": [
    "# target volume \n",
    "print(f['y'], f['y'].dtype)\n",
    "# NYU 40 labels: 0-39 + 40=ignore\n",
    "print(f['y'][0].min(), f['y'][0].max())"
   ]
  },
  {
   "cell_type": "code",
   "execution_count": 13,
   "id": "2e05e7b2-5fc8-4215-90f8-427a8609e1cb",
   "metadata": {},
   "outputs": [
    {
     "name": "stdout",
     "output_type": "stream",
     "text": [
      "<HDF5 dataset \"world_to_grid\": shape (1, 4, 4), type \"<f4\"> float32\n"
     ]
    }
   ],
   "source": [
    "# 4x4 matrix for each volume\n",
    "print(f['world_to_grid'], f['world_to_grid'].dtype)"
   ]
  },
  {
   "cell_type": "code",
   "execution_count": 14,
   "id": "2399f8d0-012e-4996-b5a3-ce81f42a1c05",
   "metadata": {},
   "outputs": [
    {
     "data": {
      "text/plain": [
       "array([[  20.,    0.,    0.,  -23.],\n",
       "       [   0.,   20.,    0., -138.],\n",
       "       [   0.,    0.,   20.,  -18.],\n",
       "       [   0.,    0.,    0.,    1.]], dtype=float32)"
      ]
     },
     "execution_count": 14,
     "metadata": {},
     "output_type": "execute_result"
    }
   ],
   "source": [
    "f['world_to_grid'][0]\n",
    "# 1/0.048 or 0.05 ~ 20 = scaling factor from world coords to grid coords (indices)"
   ]
  }
 ],
 "metadata": {
  "kernelspec": {
   "display_name": "Python 3",
   "language": "python",
   "name": "python3"
  },
  "language_info": {
   "codemirror_mode": {
    "name": "ipython",
    "version": 3
   },
   "file_extension": ".py",
   "mimetype": "text/x-python",
   "name": "python",
   "nbconvert_exporter": "python",
   "pygments_lexer": "ipython3",
   "version": "3.8.8"
  }
 },
 "nbformat": 4,
 "nbformat_minor": 5
}
