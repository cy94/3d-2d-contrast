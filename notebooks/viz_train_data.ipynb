{
 "cells": [
  {
   "cell_type": "code",
   "execution_count": null,
   "id": "cd2cbcb9-ebcb-4607-98ff-a3eedf02bdd6",
   "metadata": {},
   "outputs": [],
   "source": [
    "# visualize the data from training code\n",
    "# x = input chunk\n",
    "# and feat2d projected to 3d"
   ]
  },
  {
   "cell_type": "code",
   "execution_count": null,
   "id": "8b889d6b-cde5-4f79-baf1-5fb4ee80fcaf",
   "metadata": {},
   "outputs": [],
   "source": [
    "%matplotlib inline\n",
    "%load_ext autoreload\n",
    "%autoreload 2\n",
    "\n",
    "import trimesh\n",
    "import torch\n",
    "from tqdm import tqdm\n",
    "import numpy as np\n",
    "import matplotlib.pyplot as plt"
   ]
  },
  {
   "cell_type": "code",
   "execution_count": null,
   "id": "8e30e0c7-80ad-4e13-a8f8-efe20c26c330",
   "metadata": {},
   "outputs": [],
   "source": [
    "voxel_dims = (1, 1, 1)\n",
    "data_path = '../inds.pth'\n",
    "data = torch.load(data_path)\n",
    "data['coords2d3d'].shape, data['occ3d'].shape"
   ]
  },
  {
   "cell_type": "code",
   "execution_count": null,
   "id": "8ee5ecc7-adc9-4d8e-a26e-415b1937c771",
   "metadata": {},
   "outputs": [],
   "source": [
    "set([(1,2,3), (4,5,6)]).intersection(set([(4,5,6), (7,8,9)]))"
   ]
  },
  {
   "cell_type": "code",
   "execution_count": null,
   "id": "8ab1e04f-e5eb-4795-b5c9-7c991cddf490",
   "metadata": {},
   "outputs": [],
   "source": [
    "x = set(list(map(tuple, data['occ3d'].long().tolist())))\n",
    "y = set(list(map(tuple, data['coords2d3d'].T.long().tolist())))\n",
    "len(x.intersection(y))"
   ]
  },
  {
   "cell_type": "code",
   "execution_count": null,
   "id": "7d75af46-775d-41f3-a8f5-ed0e58cf962d",
   "metadata": {},
   "outputs": [],
   "source": [
    "# 2d coords \n",
    "proj_img_size = (40, 30)\n",
    "path2d = '../2d.pth'\n",
    "data2d = torch.load(path2d)\n",
    "i, j = data2d.cpu().numpy()\n",
    "\n",
    "color_2d = np.zeros(proj_img_size[::-1] + (3,), dtype=int)\n",
    "# color_2d = np.zeros(proj_img_size + (3,), dtype=int)\n",
    "color_2d[j, i] = (255, 0, 0)\n",
    "plt.imshow(color_2d)\n",
    "plt.axis('off')"
   ]
  },
  {
   "cell_type": "code",
   "execution_count": null,
   "id": "53553cf6-7be6-44bb-b907-ca16bbd6a318",
   "metadata": {},
   "outputs": [],
   "source": [
    "scene = trimesh.scene.scene.Scene() \n",
    "\n",
    "print('Draw occupied voxels')\n",
    "for coord in tqdm(data['occ3d']): \n",
    "    i, j, k = coord.tolist()\n",
    "    # transformation of this voxel\n",
    "    t = torch.eye(4)\n",
    "    t[:3, -1] = -torch.Tensor((i, j, k))\n",
    "    \n",
    "    voxel_transform = torch.inverse(torch.Tensor(t)).numpy()\n",
    "    box = trimesh.creation.box(voxel_dims, voxel_transform)\n",
    "    box.visual.face_colors = np.zeros((12, 4)) + (0, 0, 255, 128)\n",
    "    box.visual.vertex_colors = np.zeros((8, 4)) + (0, 0, 255, 255)\n",
    "    scene.add_geometry(box)\n",
    "\n",
    "print('Draw projected voxels')\n",
    "for coord in tqdm(data['coords2d3d'].T): \n",
    "    i, j, k = coord.tolist()\n",
    "    # transformation of this voxel\n",
    "    t = torch.eye(4)\n",
    "    t[:3, -1] = -torch.Tensor((i, j, k))\n",
    "    \n",
    "    voxel_transform = torch.inverse(torch.Tensor(t)).numpy()\n",
    "    box = trimesh.creation.box(voxel_dims, voxel_transform)\n",
    "    box.visual.face_colors = np.zeros((12, 4)) + (255, 0, 0, 128)\n",
    "    box.visual.vertex_colors = np.zeros((8, 4)) + (255, 0, 0, 255)\n",
    "    scene.add_geometry(box)\n",
    "       \n",
    "axes = trimesh.creation.axis(axis_radius=0.1, axis_length=10)\n",
    "scene.add_geometry(axes)\n",
    "\n",
    "scene.show()"
   ]
  }
 ],
 "metadata": {
  "kernelspec": {
   "display_name": "Python 3",
   "language": "python",
   "name": "python3"
  },
  "language_info": {
   "codemirror_mode": {
    "name": "ipython",
    "version": 3
   },
   "file_extension": ".py",
   "mimetype": "text/x-python",
   "name": "python",
   "nbconvert_exporter": "python",
   "pygments_lexer": "ipython3",
   "version": "3.8.8"
  }
 },
 "nbformat": 4,
 "nbformat_minor": 5
}
