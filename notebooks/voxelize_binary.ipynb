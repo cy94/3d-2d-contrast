{
 "cells": [
  {
   "cell_type": "code",
   "execution_count": null,
   "id": "be9f16ba-3c1d-4929-b01c-e9948d65f9d7",
   "metadata": {},
   "outputs": [],
   "source": [
    "%matplotlib inline\n",
    "%load_ext autoreload\n",
    "%autoreload 2"
   ]
  },
  {
   "cell_type": "code",
   "execution_count": null,
   "id": "6a11aeda-1afd-4ba6-bc7b-9ef56c610db7",
   "metadata": {},
   "outputs": [],
   "source": [
    "import torch\n",
    "import csv\n",
    "\n",
    "import cv2\n",
    "import numpy as np\n",
    "from scipy.spatial.distance import cdist\n",
    "\n",
    "from tqdm import tqdm\n",
    "\n",
    "import os, os.path as osp\n",
    "from pathlib import Path\n",
    "\n",
    "import matplotlib.pyplot as plt\n",
    "\n",
    "import trimesh\n",
    "from datasets.scannet.common import load_ply"
   ]
  },
  {
   "cell_type": "markdown",
   "id": "984bacc2-f7e9-4306-aed1-fe99790c2357",
   "metadata": {},
   "source": [
    "# Lib"
   ]
  },
  {
   "cell_type": "code",
   "execution_count": null,
   "id": "bad9000a-91d0-4933-8796-1918e2699e3d",
   "metadata": {},
   "outputs": [],
   "source": [
    "DATA_DIR = Path('/mnt/data/scannet/scans/')"
   ]
  },
  {
   "cell_type": "markdown",
   "id": "51569b4d-eaf5-4ae2-9e45-3b66036ff302",
   "metadata": {},
   "source": [
    "## read GT vertices, rgb and labels"
   ]
  },
  {
   "cell_type": "code",
   "execution_count": null,
   "id": "f8fec8ab-0316-49f6-adf1-44eb329c9afc",
   "metadata": {},
   "outputs": [],
   "source": [
    "voxel_size = 0.05\n",
    "\n",
    "scan_id = 'scene0001_00'\n",
    "scan_dir = DATA_DIR / scan_id\n",
    "label_file = DATA_DIR.parent / 'scannetv2-labels.combined.tsv'\n",
    "\n",
    "input_file = f'{scan_id}_vh_clean_2.ply' \n",
    "gt_file = f'{scan_id}_vh_clean_2.labels.ply' \n",
    "\n",
    "input_mesh = trimesh.load(scan_dir / input_file)\n",
    "gt_mesh = trimesh.load(scan_dir / gt_file)\n",
    "input_mesh, gt_mesh"
   ]
  },
  {
   "cell_type": "code",
   "execution_count": null,
   "id": "268afca8-b46c-4e09-8bce-79df2d7cdb37",
   "metadata": {},
   "outputs": [],
   "source": [
    "_, rgb, _ = load_ply(scan_dir / input_file)\n",
    "vertices, _, labels = load_ply(scan_dir / gt_file, read_label=True)\n",
    "print(vertices.shape, rgb.shape, labels.shape, labels.dtype)"
   ]
  },
  {
   "cell_type": "markdown",
   "id": "de681783-69d5-48be-9c66-72a0558d4b8a",
   "metadata": {},
   "source": [
    "## input"
   ]
  },
  {
   "cell_type": "code",
   "execution_count": null,
   "id": "1ad860e6-9655-47f9-ae2c-00e7b649f3aa",
   "metadata": {},
   "outputs": [],
   "source": [
    "# all the same\n",
    "print(input_mesh.extents)\n",
    "minvertex = vertices.min(axis=0)\n",
    "maxvertex = vertices.max(axis=0)\n",
    "print('min', minvertex, 'max', maxvertex, 'range', maxvertex-minvertex)"
   ]
  },
  {
   "cell_type": "code",
   "execution_count": null,
   "id": "6489ed10-d2dd-4622-ac03-8e20e9bc0e0c",
   "metadata": {},
   "outputs": [],
   "source": [
    "input_mesh.show()"
   ]
  },
  {
   "cell_type": "code",
   "execution_count": null,
   "id": "e036190d-2ecf-4772-a0b8-083ed8b8b05c",
   "metadata": {},
   "outputs": [],
   "source": [
    "input_grid = input_mesh.voxelized(pitch=voxel_size) "
   ]
  },
  {
   "cell_type": "code",
   "execution_count": null,
   "id": "ddd685d7-296c-406d-9db3-2bb2c0d2a8a4",
   "metadata": {},
   "outputs": [],
   "source": [
    "print('Grid size', input_grid.matrix.shape)\n",
    "print('Start voxel location', input_grid.translation)\n",
    "print('Offset', input_grid.translation / voxel_size)\n",
    "\n",
    "occ_vol, total_vol = input_grid.matrix.sum(),  np.prod(input_grid.matrix.shape)\n",
    "occ_frac = occ_vol / total_vol\n",
    "print(f'Occupied: {occ_vol} / {total_vol} = {occ_frac:2f}')"
   ]
  },
  {
   "cell_type": "code",
   "execution_count": null,
   "id": "772a2fa2-7a53-4f91-a4e6-45bd1c67cdae",
   "metadata": {},
   "outputs": [],
   "source": [
    "# show the grid directly, faster or does the same thing as \"as_boxes\"?\n",
    "input_grid.show()"
   ]
  },
  {
   "cell_type": "code",
   "execution_count": null,
   "id": "4eb3c715-5054-4bea-8293-a7fea7e9d506",
   "metadata": {},
   "outputs": [],
   "source": [
    "# centers of filled voxels\n",
    "centers = input_grid.points\n",
    "# convert points to indices\n",
    "# indices = input_grid.points_to_indices(centers)\n",
    "# or get indices directly?\n",
    "indices = input_grid.sparse_indices\n",
    "\n",
    "# vertices of the gt mesh\n",
    "# vertices = input_mesh.vertices\n",
    "\n",
    "print('centers', centers.shape, 'indices', indices.shape, 'vertices', vertices.shape)\n",
    "\n",
    "print('Center range', centers.min(axis=0), centers.max(axis=0))\n",
    "print('Index range', indices.min(axis=0), indices.max(axis=0))\n",
    "print('Vertex range', vertices.min(axis=0), vertices.max(axis=0))"
   ]
  },
  {
   "cell_type": "code",
   "execution_count": null,
   "id": "d61f7765-aa05-4b13-8e7f-da786c8720e2",
   "metadata": {},
   "outputs": [],
   "source": [
    "# assign labels and colors to grid\n",
    "pairs = list(zip(centers, indices))\n",
    "\n",
    "label_grid = np.zeros_like(input_grid.matrix, dtype=np.int16)\n",
    "rgb_grid = np.zeros(label_grid.shape + (3,), dtype=np.uint8)\n",
    "\n",
    "method = 'nearest'\n",
    "# method = 'voting'\n",
    "skipped = 0\n",
    "\n",
    "for center, ndx in tqdm(pairs):\n",
    "    if method == 'nearest':\n",
    "        # distance from this voxel center to all vertices\n",
    "        dist = cdist(np.expand_dims(center, 0), vertices).flatten()\n",
    "        # closest vertex\n",
    "        closest_vtx_ndx = dist.argmin()\n",
    "        # label of this vertex\n",
    "        voxel_label = labels[closest_vtx_ndx]\n",
    "        voxel_rgb = rgb[closest_vtx_ndx]\n",
    "    elif method == 'voting':\n",
    "        # find indices all vertices within this voxel\n",
    "        low, high = center - voxel_size, center + voxel_size\n",
    "        vtx_in_voxel = np.all(np.logical_and((vertices >= low), (vertices <= high)), axis=1)\n",
    "        # labels of these vertices\n",
    "        labels = vertex_labels[vtx_in_voxel]\n",
    "        # most common label\n",
    "        try:\n",
    "            label = np.bincount(labels).argmax()\n",
    "        except ValueError:\n",
    "            label = None\n",
    "            skipped += 1\n",
    "    \n",
    "    # assign to label and color grid\n",
    "    if label is not None:\n",
    "        label_grid[ndx[0], ndx[1], ndx[2]] = voxel_label\n",
    "        rgb_grid[ndx[0], ndx[1], ndx[2]] = voxel_rgb\n",
    "        \n",
    "print(f'Found labels for {len(centers) - skipped}/{len(centers)} centers')\n",
    "        \n",
    "# colors of voxel centers\n",
    "center_colors = rgb_grid[indices[:, 0], indices[:, 1], indices[:, 2]]"
   ]
  },
  {
   "cell_type": "code",
   "execution_count": null,
   "id": "017db599-6d3c-4456-9183-77d98e3d4a72",
   "metadata": {},
   "outputs": [],
   "source": [
    "unique_colors = np.unique(center_colors, axis=0)\n",
    "print('Unique colors:', unique_colors.shape, unique_colors)"
   ]
  },
  {
   "cell_type": "code",
   "execution_count": null,
   "id": "3fd1f1c6-df5e-4516-8e92-14fe7e7f72b0",
   "metadata": {},
   "outputs": [],
   "source": [
    "plt.hist(label_grid.reshape((-1)), bins=40, range=(1, 40))"
   ]
  },
  {
   "cell_type": "markdown",
   "id": "ebaa1ef7-b4b6-4118-9121-a0cf2571951e",
   "metadata": {},
   "source": [
    "## save voxel centers point cloud to file"
   ]
  },
  {
   "cell_type": "code",
   "execution_count": null,
   "id": "a5641091-1acb-4938-aabf-1f3e521ab5eb",
   "metadata": {
    "tags": []
   },
   "outputs": [],
   "source": [
    "# add alpha channel\n",
    "alpha = np.ones((len(centers), 1), dtype=np.uint8) * 255\n",
    "pc_colors = np.concatenate((center_colors, alpha), axis=-1)\n",
    "\n",
    "pc = trimesh.points.PointCloud(vertices=centers, colors=pc_colors)\n",
    "out_file = f'{scan_id}_gt_voxelcenters.ply'\n",
    "print(f'Saving to: {out_file}')\n",
    "\n",
    "_ = pc.export(scan_dir / out_file)"
   ]
  },
  {
   "cell_type": "markdown",
   "id": "02696132-5814-45bd-b203-6b68c7a5b82f",
   "metadata": {},
   "source": [
    "## save occ grid to file"
   ]
  },
  {
   "cell_type": "code",
   "execution_count": null,
   "id": "0b487e71-6472-420e-a1c4-1b8a5e24adcd",
   "metadata": {},
   "outputs": [],
   "source": [
    "x, y = input_grid.matrix, label_grid\n",
    "print(x.shape, x.dtype, y.shape, y.dtype, rgb_grid.shape, rgb_grid.dtype)\n",
    "out_file = f'{scan_id}_occ_grid.pth'\n",
    "\n",
    "data = {'x': x, 'y': y, 'rgb': rgb_grid, 'start_ndx': input_grid.translation / voxel_size, 'translation': input_grid.translation}\n",
    "torch.save(data, scan_dir / out_file)"
   ]
  },
  {
   "cell_type": "code",
   "execution_count": null,
   "id": "347a106d-289b-419e-94f7-70a9d49f50e1",
   "metadata": {},
   "outputs": [],
   "source": [
    "data = torch.load(scan_dir / out_file)\n",
    "x, y, rgb = data['x'], data['y'], data['rgb']\n",
    "print(x.shape, x.dtype, y.shape, y.dtype, rgb.shape, rgb.dtype)"
   ]
  }
 ],
 "metadata": {
  "kernelspec": {
   "display_name": "Python 3",
   "language": "python",
   "name": "python3"
  },
  "language_info": {
   "codemirror_mode": {
    "name": "ipython",
    "version": 3
   },
   "file_extension": ".py",
   "mimetype": "text/x-python",
   "name": "python",
   "nbconvert_exporter": "python",
   "pygments_lexer": "ipython3",
   "version": "3.8.8"
  }
 },
 "nbformat": 4,
 "nbformat_minor": 5
}
