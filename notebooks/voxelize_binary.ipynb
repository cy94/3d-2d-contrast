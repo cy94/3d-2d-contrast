{
 "cells": [
  {
   "cell_type": "code",
   "execution_count": null,
   "id": "be9f16ba-3c1d-4929-b01c-e9948d65f9d7",
   "metadata": {},
   "outputs": [],
   "source": [
    "%matplotlib inline\n",
    "%load_ext autoreload\n",
    "%autoreload 2"
   ]
  },
  {
   "cell_type": "code",
   "execution_count": null,
   "id": "6a11aeda-1afd-4ba6-bc7b-9ef56c610db7",
   "metadata": {},
   "outputs": [],
   "source": [
    "import time\n",
    "import csv\n",
    "\n",
    "import cv2\n",
    "import numpy as np\n",
    "from scipy.spatial.distance import cdist\n",
    "\n",
    "from tqdm import tqdm\n",
    "\n",
    "import os, os.path as osp\n",
    "from pathlib import Path\n",
    "\n",
    "import matplotlib.pyplot as plt\n",
    "\n",
    "import trimesh"
   ]
  },
  {
   "cell_type": "markdown",
   "id": "984bacc2-f7e9-4306-aed1-fe99790c2357",
   "metadata": {},
   "source": [
    "# Lib"
   ]
  },
  {
   "cell_type": "code",
   "execution_count": null,
   "id": "bbdeda25-6f9f-4ae2-a532-fdbccaf20604",
   "metadata": {},
   "outputs": [],
   "source": [
    "valid_classes = [0, 1, 2, 3, 4, 5, 6, 7, 8, 9, 10, 11, 12, 14, 16, 24, 28, 33, 34, 36, 39] \n",
    "print(f'{len(valid_classes)} classes')\n",
    "# NYU labels\n",
    "def create_color_palette():\n",
    "    colors =  [\n",
    "       (0, 0, 0), #index=0\n",
    "       (174, 199, 232),  # 1.wall\n",
    "       (152, 223, 138),  # 2.floor\n",
    "       (31, 119, 180),   # 3.cabinet\n",
    "       (255, 187, 120),  # 4.bed\n",
    "       (188, 189, 34),   # 5.chair\n",
    "       (140, 86, 75),    # 6.sofa\n",
    "       (255, 152, 150),  # 7.table\n",
    "       (214, 39, 40),    # 8.door\n",
    "       (197, 176, 213),  # 9.window\n",
    "       (148, 103, 189),  # 10.bookshelf\n",
    "       (196, 156, 148),  # 11.picture\n",
    "       (23, 190, 207),   # 12.counter\n",
    "       (178, 76, 76),  \n",
    "       (247, 182, 210),  # 14.desk\n",
    "       (66, 188, 102), \n",
    "       (219, 219, 141),  # 16.curtain\n",
    "       (140, 57, 197), \n",
    "       (202, 185, 52), \n",
    "       (51, 176, 203), \n",
    "       (200, 54, 131), \n",
    "       (92, 193, 61),  \n",
    "       (78, 71, 183),  \n",
    "       (172, 114, 82), \n",
    "       (255, 127, 14),   # 24.refrigerator\n",
    "       (91, 163, 138), \n",
    "       (153, 98, 156), \n",
    "       (140, 153, 101),\n",
    "       (158, 218, 229),  # 28.shower curtain\n",
    "       (100, 125, 154),\n",
    "       (178, 127, 135),\n",
    "       (120, 185, 128),\n",
    "       (146, 111, 194),\n",
    "       (44, 160, 44),    # 33.toilet\n",
    "       (112, 128, 144),  # 34.sink\n",
    "       (96, 207, 209), \n",
    "       (227, 119, 194),  # 36.bathtub\n",
    "       (213, 92, 176), \n",
    "       (94, 106, 211), \n",
    "       (82, 84, 163),    # 39.otherfurn\n",
    "       (100, 85, 144) #index=40\n",
    "    ]\n",
    "    return colors\n",
    "\n",
    "# map scannet -> nyu40\n",
    "def map_labels(arr, label_mapping):\n",
    "    mapped = np.copy(arr)\n",
    "    for k,v in label_mapping.items():\n",
    "        mapped[arr == k] = v\n",
    "    return mapped.astype(np.uint8)\n",
    "\n",
    "# if string s represents an int\n",
    "def represents_int(s):\n",
    "    try: \n",
    "        int(s)\n",
    "        return True\n",
    "    except ValueError:\n",
    "        return False\n",
    "\n",
    "# read the TSV file\n",
    "def read_label_mapping(filename, label_from='id', label_to='nyu40id'):\n",
    "    assert os.path.isfile(filename)\n",
    "    mapping = dict()\n",
    "    with open(filename) as csvfile:\n",
    "        reader = csv.DictReader(csvfile, delimiter='\\t')\n",
    "        for row in reader:\n",
    "            mapping[row[label_from]] = int(row[label_to])\n",
    "    # if ints convert \n",
    "    if represents_int(list(mapping.keys())[0]):\n",
    "        mapping = {int(k):v for k,v in mapping.items()}\n",
    "    return mapping"
   ]
  },
  {
   "cell_type": "code",
   "execution_count": null,
   "id": "bad9000a-91d0-4933-8796-1918e2699e3d",
   "metadata": {},
   "outputs": [],
   "source": [
    "DATA_DIR = Path('/mnt/data/scannet/scans/')"
   ]
  },
  {
   "cell_type": "code",
   "execution_count": null,
   "id": "f8fec8ab-0316-49f6-adf1-44eb329c9afc",
   "metadata": {},
   "outputs": [],
   "source": [
    "voxel_size = 0.05\n",
    "\n",
    "scan_id = 'scene0000_01'\n",
    "scan_dir = DATA_DIR / scan_id\n",
    "label_file = DATA_DIR.parent / 'scannetv2-labels.combined.tsv'\n",
    "\n",
    "input_file = f'{scan_id}_vh_clean_2.ply' \n",
    "gt_file = f'{scan_id}_vh_clean_2.labels.ply' \n",
    "\n",
    "input_mesh = trimesh.load(scan_dir / input_file)\n",
    "gt_mesh = trimesh.load(scan_dir / gt_file)\n",
    "input_mesh, gt_mesh"
   ]
  },
  {
   "cell_type": "markdown",
   "id": "de681783-69d5-48be-9c66-72a0558d4b8a",
   "metadata": {},
   "source": [
    "## input"
   ]
  },
  {
   "cell_type": "code",
   "execution_count": null,
   "id": "1ad860e6-9655-47f9-ae2c-00e7b649f3aa",
   "metadata": {},
   "outputs": [],
   "source": [
    "# all the same\n",
    "print(input_mesh.bounding_box.extents)\n",
    "print(input_mesh.extents)\n",
    "print(gt_mesh.extents)"
   ]
  },
  {
   "cell_type": "code",
   "execution_count": null,
   "id": "6489ed10-d2dd-4622-ac03-8e20e9bc0e0c",
   "metadata": {},
   "outputs": [],
   "source": [
    "input_mesh.show()"
   ]
  },
  {
   "cell_type": "code",
   "execution_count": null,
   "id": "e036190d-2ecf-4772-a0b8-083ed8b8b05c",
   "metadata": {},
   "outputs": [],
   "source": [
    "input_grid = input_mesh.voxelized(pitch=voxel_size) \n",
    "print(input_grid.matrix.shape)\n",
    "occ_vol, total_vol = input_grid.matrix.sum(),  np.prod(input_grid.matrix.shape)\n",
    "occ_frac = occ_vol / total_vol\n",
    "print(f'Occupied: {occ_vol} / {total_vol} = {occ_frac:2f}')\n",
    "\n",
    "occ_vol = input_grid.volume\n",
    "total_vol = np.product(input_grid.matrix.shape)*(voxel_size**3)\n",
    "print(f'Occupied volume: {occ_vol} / {total_vol} = {occ_vol/total_vol:2f}')"
   ]
  },
  {
   "cell_type": "code",
   "execution_count": null,
   "id": "ddd7d592-c2fa-439a-a4cf-7e5702804670",
   "metadata": {},
   "outputs": [],
   "source": [
    "# another way of displaying, actually constructs the mesh.\n",
    "# much heavier\n",
    "input_boxes = input_grid.as_boxes()\n",
    "input_boxes.show()"
   ]
  },
  {
   "cell_type": "code",
   "execution_count": null,
   "id": "772a2fa2-7a53-4f91-a4e6-45bd1c67cdae",
   "metadata": {},
   "outputs": [],
   "source": [
    "# show the grid directly, faster or does the same thing as \"as_boxes\"?\n",
    "input_grid.show()"
   ]
  },
  {
   "cell_type": "markdown",
   "id": "51569b4d-eaf5-4ae2-9e45-3b66036ff302",
   "metadata": {},
   "source": [
    "## read GT xyz, rgb and labels"
   ]
  },
  {
   "cell_type": "code",
   "execution_count": null,
   "id": "8104f7c1-88ff-428a-b2ae-0ddefa515b36",
   "metadata": {},
   "outputs": [],
   "source": [
    "from trimesh.exchange.ply import parse_header, ply_binary\n",
    "\n",
    "with open(scan_dir / gt_file, 'rb') as f:\n",
    "    elements, is_ascii, image_name = parse_header(f)\n",
    "    ply_binary(elements, f)\n",
    "    \n",
    "scannet_labels = elements['vertex']['data']['label']\n",
    "print('ScanNet Labels:', scannet_labels.shape, 'Range:', scannet_labels.min(), scannet_labels.max(), \n",
    "      'Unique:', len(np.unique(scannet_labels)))\n",
    "\n",
    "plt.hist(scannet_labels, bins=40)\n",
    "plt.show()"
   ]
  },
  {
   "cell_type": "code",
   "execution_count": null,
   "id": "1ad61218-8d9a-47bc-9c99-055cad646a39",
   "metadata": {},
   "outputs": [],
   "source": [
    "x, y, z = elements['vertex']['data']['x'], elements['vertex']['data']['y'], elements['vertex']['data']['z']\n",
    "r, g, b = elements['vertex']['data']['red'], elements['vertex']['data']['green'], elements['vertex']['data']['blue']\n",
    "\n",
    "gt_vertices = np.stack((x, y, z), axis=-1)\n",
    "gt_rgb = np.stack((r, g, b), axis=-1)\n",
    "\n",
    "print(gt_vertices.shape, gt_rgb.shape)"
   ]
  },
  {
   "cell_type": "code",
   "execution_count": null,
   "id": "18b5b6ee-b24a-45aa-84e4-51e331f04ccf",
   "metadata": {},
   "outputs": [],
   "source": [
    "# map scannet labels to NYU40 labels\n",
    "mapping = read_label_mapping(label_file)\n",
    "nyu_labels = map_labels(scannet_labels, mapping)\n",
    "print('NYU Labels:', nyu_labels.shape, 'range:', nyu_labels.min(), nyu_labels.max(), 'unique:', len(np.unique(nyu_labels)))\n",
    "\n",
    "plt.hist(nyu_labels, bins=40)\n",
    "plt.show()"
   ]
  },
  {
   "cell_type": "code",
   "execution_count": null,
   "id": "c55abc7f-78e7-417a-8b76-243e50596868",
   "metadata": {},
   "outputs": [],
   "source": [
    "nyu_labels = scannet_labels"
   ]
  },
  {
   "cell_type": "code",
   "execution_count": null,
   "id": "0262605f-241b-4582-a6d1-f0a58c95bb50",
   "metadata": {},
   "outputs": [],
   "source": [
    "# keep only the required labels, rest are 0\n",
    "vertex_labels = np.array([l if l in valid_classes else 0 for l in nyu_labels.tolist()], dtype=np.uint8)\n",
    "print('Selected NYU Labels:', vertex_labels.shape, 'range:', vertex_labels.min(), vertex_labels.max(), 'unique:', len(np.unique(vertex_labels)))\n",
    "print('Classes present:', np.unique(vertex_labels))\n",
    "\n",
    "plt.hist(vertex_labels, bins=40)\n",
    "plt.show()"
   ]
  },
  {
   "cell_type": "markdown",
   "id": "6c094cb4-3fe4-4e8d-88cd-c36899798064",
   "metadata": {},
   "source": [
    "## check if gt colors and labels are 1-1 mapping"
   ]
  },
  {
   "cell_type": "code",
   "execution_count": null,
   "id": "651a7b16-e714-4f5a-95f1-a98075b1ed32",
   "metadata": {},
   "outputs": [],
   "source": [
    "print(gt_rgb.shape, scannet_labels.shape)\n",
    "unique_labels = np.unique(scannet_labels)\n",
    "\n",
    "for label in unique_labels:\n",
    "    # all colors for this label\n",
    "    c = gt_rgb[scannet_labels == label]\n",
    "    unique_c = np.unique(c, axis=0)\n",
    "    print(label, unique_c.shape)"
   ]
  },
  {
   "cell_type": "code",
   "execution_count": null,
   "id": "4eb3c715-5054-4bea-8293-a7fea7e9d506",
   "metadata": {},
   "outputs": [],
   "source": [
    "# centers of filled voxels\n",
    "centers = input_grid.points\n",
    "# convert points to indices\n",
    "indices = input_grid.points_to_indices(centers)\n",
    "# or get indices directly?\n",
    "# indices = input_grid.sparse_indices\n",
    "# or convert points to indices ourself - almost same\n",
    "# indices = np.floor((centers - centers.min(axis=0)) / voxel_size).astype(np.uint8)\n",
    "# vertices of the gt mesh\n",
    "vertices = gt_vertices\n",
    "\n",
    "print('centers', centers.shape, 'indices', indices.shape, 'vertices', vertices.shape)\n",
    "\n",
    "print('Center range', centers.min(axis=0), centers.max(axis=0))\n",
    "print('Vertex range', vertices.min(axis=0), vertices.max(axis=0))\n",
    "print('Index range', indices.min(axis=0), indices.max(axis=0))"
   ]
  },
  {
   "cell_type": "code",
   "execution_count": null,
   "id": "d61f7765-aa05-4b13-8e7f-da786c8720e2",
   "metadata": {},
   "outputs": [],
   "source": [
    "# assign labels and colors to grid\n",
    "pairs = list(zip(centers, indices))\n",
    "\n",
    "label_grid = np.zeros_like(input_grid.matrix, dtype=np.uint8)\n",
    "print('label grid', label_grid.shape)\n",
    "colors = np.zeros(label_grid.shape + (3,), dtype=np.uint8)\n",
    "palette = create_color_palette()\n",
    "\n",
    "method = 'nearest'\n",
    "# method = 'voting'\n",
    "skipped = 0\n",
    "\n",
    "for center, ndx in tqdm(pairs):\n",
    "    if method == 'nearest':\n",
    "        # distance from this voxel center to all vertices\n",
    "        dist = cdist(np.expand_dims(center, 0), vertices).flatten()\n",
    "        # closest vertex\n",
    "        closest_vtx_ndx = dist.argmin()\n",
    "        # label of this vertex\n",
    "        label = vertex_labels[closest_vtx_ndx]\n",
    "    elif method == 'voting':\n",
    "        # find indices all vertices within this voxel\n",
    "        low, high = center - voxel_size, center + voxel_size\n",
    "        vtx_in_voxel = np.all(np.logical_and((vertices >= low), (vertices <= high)), axis=1)\n",
    "        # labels of these vertices\n",
    "        labels = vertex_labels[vtx_in_voxel]\n",
    "        # most common label\n",
    "        try:\n",
    "            label = np.bincount(labels).argmax()\n",
    "        except ValueError:\n",
    "            label = None\n",
    "            skipped += 1\n",
    "    \n",
    "    # assign to label and color grid\n",
    "    if label is not None and label in valid_classes:\n",
    "        label_grid[ndx[0], ndx[1], ndx[2]] = label\n",
    "        colors[ndx[0], ndx[1], ndx[2]] = palette[label]\n",
    "\n",
    "print(f'Found labels for {len(centers) - skipped}/{len(centers)} centers')\n",
    "        \n",
    "# colors of voxel centers\n",
    "center_colors = colors[indices[:, 0], indices[:, 1], indices[:, 2]]"
   ]
  },
  {
   "cell_type": "code",
   "execution_count": null,
   "id": "017db599-6d3c-4456-9183-77d98e3d4a72",
   "metadata": {},
   "outputs": [],
   "source": [
    "unique_colors = np.unique(center_colors, axis=0)\n",
    "print('Unique colors:', unique_colors.shape, unique_colors)"
   ]
  },
  {
   "cell_type": "code",
   "execution_count": null,
   "id": "3fd1f1c6-df5e-4516-8e92-14fe7e7f72b0",
   "metadata": {},
   "outputs": [],
   "source": [
    "plt.hist(label_grid.reshape((-1)), bins=40, range=(1, 40))"
   ]
  },
  {
   "cell_type": "markdown",
   "id": "ebaa1ef7-b4b6-4118-9121-a0cf2571951e",
   "metadata": {},
   "source": [
    "## save point cloud to file"
   ]
  },
  {
   "cell_type": "code",
   "execution_count": null,
   "id": "a5641091-1acb-4938-aabf-1f3e521ab5eb",
   "metadata": {},
   "outputs": [],
   "source": [
    "# add alpha channel\n",
    "alpha = np.ones((len(centers), 1), dtype=np.uint8) * 255\n",
    "pc_colors = np.concatenate((center_colors, alpha), axis=-1)\n",
    "\n",
    "pc = trimesh.points.PointCloud(vertices=centers, colors=pc_colors)\n",
    "_ = pc.export(scan_dir / f'{scan_id}_gt_voxelcenters.ply')"
   ]
  }
 ],
 "metadata": {
  "kernelspec": {
   "display_name": "Python 3",
   "language": "python",
   "name": "python3"
  },
  "language_info": {
   "codemirror_mode": {
    "name": "ipython",
    "version": 3
   },
   "file_extension": ".py",
   "mimetype": "text/x-python",
   "name": "python",
   "nbconvert_exporter": "python",
   "pygments_lexer": "ipython3",
   "version": "3.8.8"
  }
 },
 "nbformat": 4,
 "nbformat_minor": 5
}
