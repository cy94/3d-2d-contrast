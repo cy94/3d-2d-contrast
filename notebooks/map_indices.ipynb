{
 "cells": [
  {
   "cell_type": "code",
   "execution_count": 1,
   "id": "23426b8c-e8a4-4c0b-ac2f-cf9aa5078af2",
   "metadata": {},
   "outputs": [],
   "source": [
    "%matplotlib inline\n",
    "%load_ext autoreload\n",
    "%autoreload 2"
   ]
  },
  {
   "cell_type": "code",
   "execution_count": 3,
   "id": "18197870-eba1-4dca-b75a-fc83447fe7dd",
   "metadata": {},
   "outputs": [],
   "source": [
    "# map 32^3  linear indices to 4^3 linear  indices\n",
    "# map 32^3 linear -> 32^3 coords -> 4^3 coords -> 4^3 linear"
   ]
  },
  {
   "cell_type": "code",
   "execution_count": 10,
   "id": "f6316577-fab7-4629-a2ff-46f8e3e7c519",
   "metadata": {},
   "outputs": [],
   "source": [
    "import torch\n",
    "from datasets.scannet.utils_3d import ProjectionHelper"
   ]
  },
  {
   "cell_type": "code",
   "execution_count": 4,
   "id": "21338336-b508-43fe-aab8-ce5b6c85d5e8",
   "metadata": {},
   "outputs": [],
   "source": [
    "in_dims = (32, 32, 32)\n",
    "out_dims = (4, 4, 4)"
   ]
  },
  {
   "cell_type": "code",
   "execution_count": 59,
   "id": "6a97a65f-fc73-448c-8615-7f0c415d44e9",
   "metadata": {},
   "outputs": [],
   "source": [
    "lin_inds = torch.arange(0, in_dims[0]*in_dims[1]*in_dims[2], out=torch.LongTensor())\n",
    "coords = lin_inds.new_empty(4, lin_inds.size(0))"
   ]
  },
  {
   "cell_type": "code",
   "execution_count": 60,
   "id": "cc3840ee-2588-4b29-9704-489b1e1bdd4a",
   "metadata": {},
   "outputs": [
    {
     "data": {
      "text/plain": [
       "tensor([ 0,  1,  2,  3,  4,  5,  6,  7,  8,  9, 10, 11, 12, 13, 14, 15, 16, 17,\n",
       "        18, 19])"
      ]
     },
     "execution_count": 60,
     "metadata": {},
     "output_type": "execute_result"
    }
   ],
   "source": [
    "lin_inds[:20]"
   ]
  },
  {
   "cell_type": "code",
   "execution_count": 61,
   "id": "ffc06d29-f204-401c-b252-5ac64b48c5d1",
   "metadata": {},
   "outputs": [
    {
     "data": {
      "text/plain": [
       "(torch.Size([32768]), torch.Size([4, 32768]))"
      ]
     },
     "execution_count": 61,
     "metadata": {},
     "output_type": "execute_result"
    }
   ],
   "source": [
    "lin_inds.shape, coords.shape"
   ]
  },
  {
   "cell_type": "code",
   "execution_count": 62,
   "id": "90ad30d0-6407-4a0e-a874-4136dd0ad51b",
   "metadata": {},
   "outputs": [
    {
     "name": "stdout",
     "output_type": "stream",
     "text": [
      "tensor([[0, 1, 2, 3, 4, 5, 6, 7, 8, 9],\n",
      "        [0, 0, 0, 0, 0, 0, 0, 0, 0, 0],\n",
      "        [0, 0, 0, 0, 0, 0, 0, 0, 0, 0],\n",
      "        [1, 1, 1, 1, 1, 1, 1, 1, 1, 1]])\n",
      "tensor([[ 8,  9, 10, 11, 12, 13, 14, 15, 16, 17],\n",
      "        [31, 31, 31, 31, 31, 31, 31, 31, 31, 31],\n",
      "        [ 0,  0,  0,  0,  0,  0,  0,  0,  0,  0],\n",
      "        [ 1,  1,  1,  1,  1,  1,  1,  1,  1,  1]])\n"
     ]
    }
   ],
   "source": [
    "coords = ProjectionHelper.lin_ind_to_coords_static(lin_inds, coords, in_dims)\n",
    "\n",
    "print(coords[:, :10])\n",
    "print(coords[:, 1000:1010])"
   ]
  },
  {
   "cell_type": "code",
   "execution_count": 65,
   "id": "4e8e92a7-b832-4481-af19-33d737e6a5b2",
   "metadata": {},
   "outputs": [
    {
     "data": {
      "text/plain": [
       "tensor([8, 8, 8])"
      ]
     },
     "execution_count": 65,
     "metadata": {},
     "output_type": "execute_result"
    }
   ],
   "source": [
    "factor = torch.LongTensor(in_dims) // torch.LongTensor(out_dims)\n",
    "factor"
   ]
  },
  {
   "cell_type": "code",
   "execution_count": 66,
   "id": "66859ff3-ed67-462d-8cdd-aa001a26a393",
   "metadata": {},
   "outputs": [
    {
     "name": "stdout",
     "output_type": "stream",
     "text": [
      "tensor([[0, 1, 2, 3, 4, 5, 6, 7, 8, 9],\n",
      "        [0, 0, 0, 0, 0, 0, 0, 0, 0, 0],\n",
      "        [0, 0, 0, 0, 0, 0, 0, 0, 0, 0],\n",
      "        [1, 1, 1, 1, 1, 1, 1, 1, 1, 1]])\n"
     ]
    }
   ],
   "source": [
    "new_coords = coords.clone()\n",
    "new_coords.shape\n",
    "print(new_coords[:, :10])"
   ]
  },
  {
   "cell_type": "code",
   "execution_count": 69,
   "id": "ab89ddc9-cd2c-4c55-baa3-04a327ac7d1d",
   "metadata": {},
   "outputs": [
    {
     "name": "stdout",
     "output_type": "stream",
     "text": [
      "tensor([[0, 0, 0, 0, 0, 0, 0, 0, 1, 1],\n",
      "        [0, 0, 0, 0, 0, 0, 0, 0, 0, 0],\n",
      "        [0, 0, 0, 0, 0, 0, 0, 0, 0, 0]])\n",
      "tensor([[1, 1, 1, 1, 1, 1, 1, 1, 2, 2],\n",
      "        [3, 3, 3, 3, 3, 3, 3, 3, 3, 3],\n",
      "        [0, 0, 0, 0, 0, 0, 0, 0, 0, 0]])\n"
     ]
    }
   ],
   "source": [
    "# check a few output coords\n",
    "print((new_coords[:3, :10].T // factor).T)\n",
    "print((new_coords[:3, 1000:1010].T // factor).T)"
   ]
  },
  {
   "cell_type": "code",
   "execution_count": 70,
   "id": "47b4dc28-d3f3-46df-bebf-4d112186ac2a",
   "metadata": {},
   "outputs": [],
   "source": [
    "new_coords[:3, :] = (new_coords[:3, :].T // factor).T"
   ]
  },
  {
   "cell_type": "code",
   "execution_count": 71,
   "id": "3639604b-e8b7-4979-9650-90415937ef76",
   "metadata": {},
   "outputs": [
    {
     "data": {
      "text/plain": [
       "tensor([[2, 2, 3, 3, 3, 3, 3, 3, 3, 3],\n",
       "        [3, 3, 3, 3, 3, 3, 3, 3, 3, 3],\n",
       "        [3, 3, 3, 3, 3, 3, 3, 3, 3, 3]])"
      ]
     },
     "execution_count": 71,
     "metadata": {},
     "output_type": "execute_result"
    }
   ],
   "source": [
    "new_coords[:3, -10:]"
   ]
  },
  {
   "cell_type": "code",
   "execution_count": 72,
   "id": "7035d475-9a01-4b80-972b-96e3866a0e74",
   "metadata": {},
   "outputs": [],
   "source": [
    "# convert coords back to lin inds\n",
    "# dims are L,B,H\n",
    "# Z*(L*B) + Y*L + X"
   ]
  },
  {
   "cell_type": "code",
   "execution_count": 78,
   "id": "ec8810da-5343-4653-b4a4-b8458b60d99f",
   "metadata": {},
   "outputs": [
    {
     "data": {
      "text/plain": [
       "tensor(32768)"
      ]
     },
     "execution_count": 78,
     "metadata": {},
     "output_type": "execute_result"
    }
   ],
   "source": []
  },
  {
   "cell_type": "code",
   "execution_count": 80,
   "id": "e3fa39d8-c0a7-4170-a8f8-edae658b4825",
   "metadata": {},
   "outputs": [
    {
     "data": {
      "text/plain": [
       "tensor([32768,     0,     1,  ..., 32765, 32766, 32767])"
      ]
     },
     "execution_count": 80,
     "metadata": {},
     "output_type": "execute_result"
    }
   ],
   "source": [
    "ProjectionHelper.coords_to_lin_inds(coords, torch.prod(torch.LongTensor(in_dims)), in_dims)"
   ]
  },
  {
   "cell_type": "code",
   "execution_count": 83,
   "id": "4c1619e3-cd67-4387-b60a-3afceedc3cd8",
   "metadata": {},
   "outputs": [
    {
     "data": {
      "text/plain": [
       "tensor([32768,     0,     0,     0,     0,     0,     0,     0,     0,     1,\n",
       "            1,     1,     1,     1,     1,     1,     1,     2,     2,     2])"
      ]
     },
     "execution_count": 83,
     "metadata": {},
     "output_type": "execute_result"
    }
   ],
   "source": [
    "out_inds = ProjectionHelper.coords_to_lin_inds(new_coords, torch.prod(torch.LongTensor(in_dims)), out_dims)\n",
    "out_inds[:20]"
   ]
  }
 ],
 "metadata": {
  "kernelspec": {
   "display_name": "Python 3",
   "language": "python",
   "name": "python3"
  },
  "language_info": {
   "codemirror_mode": {
    "name": "ipython",
    "version": 3
   },
   "file_extension": ".py",
   "mimetype": "text/x-python",
   "name": "python",
   "nbconvert_exporter": "python",
   "pygments_lexer": "ipython3",
   "version": "3.8.8"
  }
 },
 "nbformat": 4,
 "nbformat_minor": 5
}
